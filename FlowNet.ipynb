{
 "cells": [
  {
   "cell_type": "markdown",
   "metadata": {},
   "source": [
    "# FlowNet\n",
    "\n",
    "import (tensorflow, numpy) package <br>\n",
    "numpy use to make numpy array batch data for training <br>\n",
    "tensorflow use to make FlowNet structure"
   ]
  },
  {
   "cell_type": "code",
   "execution_count": null,
   "metadata": {},
   "outputs": [],
   "source": [
    "import tensorflow as tf\n",
    "import numpy as np"
   ]
  },
  {
   "cell_type": "markdown",
   "metadata": {},
   "source": [
    "dataset : Scene Flow Datasets <br>\n",
    "model : FlowNet structure <br>"
   ]
  },
  {
   "cell_type": "code",
   "execution_count": null,
   "metadata": {},
   "outputs": [],
   "source": [
    "from model import FlowNet\n",
    "from dataset import Scene_Flow_disparity"
   ]
  },
  {
   "cell_type": "markdown",
   "metadata": {},
   "source": [
    "Download Scene Flow Datasets <br>\n",
    "Make data_paths list for loading data images"
   ]
  },
  {
   "cell_type": "code",
   "execution_count": null,
   "metadata": {
    "scrolled": false
   },
   "outputs": [],
   "source": [
    "dataset = Scene_Flow_disparity()"
   ]
  },
  {
   "cell_type": "markdown",
   "metadata": {},
   "source": [
    "Check data method in mode = left, groundTruth mode = disparity"
   ]
  },
  {
   "cell_type": "code",
   "execution_count": null,
   "metadata": {},
   "outputs": [],
   "source": [
    "print(len(dataset.data_paths))\n",
    "print()\n",
    "iteration = 0\n",
    "for dir_ in dataset.data_paths:\n",
    "    iteration += 1\n",
    "    if iteration == 200:\n",
    "        break\n",
    "    if dataset.data(dir_) is not None:\n",
    "        print(dir_)\n",
    "    else:\n",
    "        print('no left or png path')"
   ]
  },
  {
   "cell_type": "markdown",
   "metadata": {},
   "source": [
    "# FlowNet Simple training<br>\n",
    "\n",
    "gpu device setting"
   ]
  },
  {
   "cell_type": "code",
   "execution_count": null,
   "metadata": {},
   "outputs": [],
   "source": [
    "import os\n",
    "\n",
    "os.environ[\"CUDA_DEVICE_ORDER\"]=\"PCI_BUS_ID\"   \n",
    "os.environ[\"CUDA_VISIBLE_DEVICES\"]=\"0\""
   ]
  },
  {
   "cell_type": "markdown",
   "metadata": {},
   "source": [
    "make FlowNet simple structure <br>\n",
    "set training environment(input shape, learning rate, FlowNet structure mode, gpu device set)"
   ]
  },
  {
   "cell_type": "code",
   "execution_count": null,
   "metadata": {
    "scrolled": true
   },
   "outputs": [],
   "source": [
    "import time\n",
    "import datetime\n",
    "\n",
    "start=time.clock()\n",
    "\n",
    "model = FlowNet(\n",
    "    img_height = 540,\n",
    "    img_width = 960, \n",
    "    img_depth = 3, \n",
    "    learning_rate = 0.1**4,\n",
    "    num_of_gpu = 1)\n",
    "\n",
    "net = model.inference('simple')"
   ]
  },
  {
   "cell_type": "markdown",
   "metadata": {},
   "source": [
    "## training\n",
    "\n",
    "make training batch input\n",
    "- train_left_x_batch numpy array\n",
    "- train_right_x_batch numpy array\n",
    "<br>\n",
    "\n",
    "make training batch output\n",
    "- train_y_batch numpy array\n",
    "training\n",
    "- data split in iteration\n",
    "- no data augmentation"
   ]
  },
  {
   "cell_type": "code",
   "execution_count": null,
   "metadata": {
    "scrolled": true
   },
   "outputs": [],
   "source": [
    "import cv2\n",
    "from random import shuffle\n",
    "from tensorflow.python.keras.callbacks import CSVLogger\n",
    "from tensorflow.python.keras.callbacks import Callback\n",
    "\n",
    "csv_logger = CSVLogger('./checkpoints/FlowNetSimple_training_log.csv', append=True, separator=';')\n",
    "TensorBoard = tf.contrib.keras.callbacks.TensorBoard(\n",
    "    log_dir=\"TensorBoard/FlowNetTensorBoard/FlowNetSimple/\",\n",
    "    histogram_freq = 0,\n",
    "    write_graph=True, \n",
    "    write_images=True)\n",
    "class WeightsSaver(Callback):\n",
    "    def __init__(self, N):\n",
    "        self.N = N\n",
    "        self.epoch = 0\n",
    "\n",
    "    def on_epoch_end(self, epoch, logs={}):\n",
    "        if self.epoch % self.N == 0:\n",
    "            self.model.save_weights('./checkpoints/flownetSimple(%dth)_for_depth.hdf5' % self.epoch)\n",
    "        self.epoch += 1\n",
    "\n",
    "def trainDataGenerator(data_paths, target_input_size = (model.model_in_width, model.model_in_height), target_output_size = (model.model_out_height, model.model_out_width), batch_size = 1, suffle = True):\n",
    "    if shuffle == True:\n",
    "        shuffle(data_paths)\n",
    "    train_left_inputBatch = []\n",
    "    train_right_inputBatch = []\n",
    "    train_left_groundTruthBatch = []\n",
    "    for dir_ in data_paths:\n",
    "        tmp = cv2.imread(dir_, cv2.IMREAD_COLOR)\n",
    "        l_img_nparray = cv2.resize(tmp, target_input_size, interpolation=cv2.INTER_CUBIC)\n",
    "\n",
    "        tmp = cv2.imread(dir_.replace(\"left\", \"right\"), cv2.IMREAD_COLOR)\n",
    "        r_img_nparray = cv2.resize(tmp, target_input_size, interpolation=cv2.INTER_CUBIC)\n",
    "        \n",
    "        if 'driving__frames_cleanpass' in dir_:\n",
    "            tmp = dir_.replace(\"driving__frames_cleanpass\", \"driving__disparity\")\n",
    "            dir_ = tmp.replace(\"frames_cleanpass\", \"disparity\")\n",
    "        elif 'driving__frames_finalpass' in dir_:\n",
    "            tmp = dir_.replace(\"driving__frames_finalpass\", \"driving__disparity\")\n",
    "            dir_ = tmp.replace(\"frames_finalpass\", \"disparity\")\n",
    "        elif 'flyingthings3d__frames_cleanpass' in dir_:\n",
    "            tmp = dir_.replace(\"flyingthings3d__frames_cleanpass\", \"flyingthings3d__disparity\")\n",
    "            dir_ = tmp.replace(\"frames_cleanpass\", \"disparity\")\n",
    "        elif 'flyingthings3d__frames_finalpass' in dir_:\n",
    "            tmp = dir_.replace(\"flyingthings3d__frames_finalpass\", \"flyingthings3d__disparity\")\n",
    "            dir_ = tmp.replace(\"frames_finalpass\", \"disparity\")\n",
    "        elif 'monkaa__frames_cleanpass' in dir_:\n",
    "            tmp = dir_.replace(\"monkaa__frames_cleanpass\", \"monkaa__disparity\")\n",
    "            dir_ = tmp.replace(\"frames_cleanpass\", \"disparity\")\n",
    "        elif 'monkaa__frames_finalpass' in dir_:\n",
    "            tmp = dir_.replace(\"monkaa__frames_finalpass\", \"monkaa__disparity\")\n",
    "            dir_ = tmp.replace(\"frames_finalpass\", \"disparity\")\n",
    "        \n",
    "        ground_truth = cv2.resize(dataset.read_pfm(dir_.replace(\".png\", \".pfm\")), (model.model_out_width, model.model_out_height), interpolation=cv2.INTER_CUBIC)\n",
    "\n",
    "        train_left_inputBatch += [l_img_nparray]\n",
    "        train_right_inputBatch += [r_img_nparray]\n",
    "        train_left_groundTruthBatch += [ground_truth[:,:,np.newaxis]]\n",
    "\n",
    "        if len(train_left_groundTruthBatch) == batch_size:\n",
    "            batch_input_x = [np.array(train_left_inputBatch), np.array(train_right_inputBatch)]\n",
    "            batch_input_y = [np.array(train_left_groundTruthBatch)]\n",
    "            train_left_inputBatch = []\n",
    "            train_right_inputBatch = []\n",
    "            train_left_groundTruthBatch = []\n",
    "\n",
    "            yield (batch_input_x, batch_input_y)\n",
    "\n",
    "directories = [i for i in dataset.data_paths if ('left' in i) and ('.png' in i)]\n",
    "shuffle(directories)\n",
    "\n",
    "train_paths = directories[0:int(len(directories)*0.8)]\n",
    "train_generator = trainDataGenerator(data_paths = train_paths, batch_size = 8)\n",
    "\n",
    "validation_paths = directories[int(len(directories)*0.8):]\n",
    "validation_generator = trainDataGenerator(data_paths = validation_paths, batch_size = 8)\n",
    "\n",
    "net.fit_generator(train_generator,\n",
    "                  epochs = 100,\n",
    "                  steps_per_epoch = int(len(train_paths)/8),\n",
    "                  validation_data = validation_generator,\n",
    "                  validation_steps = int(len(validation_paths)/8),\n",
    "                  callbacks=[TensorBoard, csv_logger, WeightsSaver(10)])"
   ]
  },
  {
   "cell_type": "markdown",
   "metadata": {},
   "source": [
    "training time check\n",
    "- day\n",
    "- hours\n",
    "- minute\n",
    "- sec"
   ]
  },
  {
   "cell_type": "code",
   "execution_count": null,
   "metadata": {},
   "outputs": [],
   "source": [
    "runtime_sec = time.clock() - start\n",
    "m, s = divmod(runtime_sec, 60)\n",
    "h, m = divmod(m, 60)\n",
    "d, h = divmod(h, 24)\n",
    "print('runtime : %d days %d:%02d:%02d' % (d, h, m, s))"
   ]
  },
  {
   "cell_type": "markdown",
   "metadata": {},
   "source": [
    "save trained model weight"
   ]
  },
  {
   "cell_type": "code",
   "execution_count": null,
   "metadata": {},
   "outputs": [],
   "source": [
    "net.save_weights('./checkpoints/flownetSimple_for_depth.hdf5')"
   ]
  },
  {
   "cell_type": "markdown",
   "metadata": {},
   "source": [
    "# FlowNet Correlation training<br>\n",
    "\n",
    "gpu device setting"
   ]
  },
  {
   "cell_type": "code",
   "execution_count": null,
   "metadata": {},
   "outputs": [],
   "source": [
    "import os\n",
    "\n",
    "os.environ[\"CUDA_DEVICE_ORDER\"]=\"PCI_BUS_ID\"   \n",
    "os.environ[\"CUDA_VISIBLE_DEVICES\"]=\"0\""
   ]
  },
  {
   "cell_type": "markdown",
   "metadata": {},
   "source": [
    "make FlowNet simple structure <br>\n",
    "set training environment(input shape, learning rate, FlowNet structure mode)"
   ]
  },
  {
   "cell_type": "code",
   "execution_count": null,
   "metadata": {},
   "outputs": [],
   "source": [
    "import time\n",
    "import datetime\n",
    "\n",
    "start=time.clock()\n",
    "\n",
    "model = FlowNet(\n",
    "    img_height = 540,\n",
    "    img_width = 960, \n",
    "    img_depth = 3, \n",
    "    learning_rate = 0.1**4,\n",
    "    num_of_gpu = 1)\n",
    "\n",
    "net = model.inference('correlation')"
   ]
  },
  {
   "cell_type": "markdown",
   "metadata": {},
   "source": [
    "## training\n",
    "\n",
    "make training batch input\n",
    "- train_left_x_batch numpy array\n",
    "- train_right_x_batch numpy array\n",
    "<br>\n",
    "\n",
    "make training batch output\n",
    "- train_y_batch numpy array\n",
    "training\n",
    "- data split in iteration\n",
    "- no data augmentation"
   ]
  },
  {
   "cell_type": "code",
   "execution_count": null,
   "metadata": {},
   "outputs": [],
   "source": [
    "import cv2\n",
    "from random import shuffle\n",
    "from tensorflow.python.keras.callbacks import CSVLogger\n",
    "from tensorflow.python.keras.callbacks import Callback\n",
    "\n",
    "csv_logger = CSVLogger('./checkpoints/FlowNetCorr_training_log.csv', append=True, separator=';')\n",
    "TensorBoard = tf.contrib.keras.callbacks.TensorBoard(\n",
    "    log_dir=\"TensorBoard/FlowNetTensorBoard/FlowNetCorr/\",\n",
    "    histogram_freq = 0,\n",
    "    write_graph=True, \n",
    "    write_images=True)\n",
    "class WeightsSaver(Callback):\n",
    "    def __init__(self, N):\n",
    "        self.N = N\n",
    "        self.epoch = 0\n",
    "\n",
    "    def on_epoch_end(self, epoch, logs={}):\n",
    "        if self.epoch % self.N == 0:\n",
    "            self.model.save_weights('./checkpoints/flownetCorr(%dth)_for_depth.hdf5' % self.epoch)\n",
    "        self.epoch += 1\n",
    "\n",
    "def trainDataGenerator(data_paths, target_input_size = (model.model_in_width, model.model_in_height), target_output_size = (model.model_out_height, model.model_out_width), batch_size = 1, suffle = True):\n",
    "    if shuffle == True:\n",
    "        shuffle(data_paths)\n",
    "    train_left_inputBatch = []\n",
    "    train_right_inputBatch = []\n",
    "    train_left_groundTruthBatch = []\n",
    "    for dir_ in data_paths:\n",
    "        tmp = cv2.imread(dir_, cv2.IMREAD_COLOR)\n",
    "        l_img_nparray = cv2.resize(tmp, target_input_size, interpolation=cv2.INTER_CUBIC)\n",
    "\n",
    "        tmp = cv2.imread(dir_.replace(\"left\", \"right\"), cv2.IMREAD_COLOR)\n",
    "        r_img_nparray = cv2.resize(tmp, target_input_size, interpolation=cv2.INTER_CUBIC)\n",
    "        \n",
    "        if 'driving__frames_cleanpass' in dir_:\n",
    "            tmp = dir_.replace(\"driving__frames_cleanpass\", \"driving__disparity\")\n",
    "            dir_ = tmp.replace(\"frames_cleanpass\", \"disparity\")\n",
    "        elif 'driving__frames_finalpass' in dir_:\n",
    "            tmp = dir_.replace(\"driving__frames_finalpass\", \"driving__disparity\")\n",
    "            dir_ = tmp.replace(\"frames_finalpass\", \"disparity\")\n",
    "        elif 'flyingthings3d__frames_cleanpass' in dir_:\n",
    "            tmp = dir_.replace(\"flyingthings3d__frames_cleanpass\", \"flyingthings3d__disparity\")\n",
    "            dir_ = tmp.replace(\"frames_cleanpass\", \"disparity\")\n",
    "        elif 'flyingthings3d__frames_finalpass' in dir_:\n",
    "            tmp = dir_.replace(\"flyingthings3d__frames_finalpass\", \"flyingthings3d__disparity\")\n",
    "            dir_ = tmp.replace(\"frames_finalpass\", \"disparity\")\n",
    "        elif 'monkaa__frames_cleanpass' in dir_:\n",
    "            tmp = dir_.replace(\"monkaa__frames_cleanpass\", \"monkaa__disparity\")\n",
    "            dir_ = tmp.replace(\"frames_cleanpass\", \"disparity\")\n",
    "        elif 'monkaa__frames_finalpass' in dir_:\n",
    "            tmp = dir_.replace(\"monkaa__frames_finalpass\", \"monkaa__disparity\")\n",
    "            dir_ = tmp.replace(\"frames_finalpass\", \"disparity\")\n",
    "        \n",
    "        ground_truth = cv2.resize(dataset.read_pfm(dir_.replace(\".png\", \".pfm\")), (model.model_out_width, model.model_out_height), interpolation=cv2.INTER_CUBIC)\n",
    "\n",
    "        train_left_inputBatch += [l_img_nparray]\n",
    "        train_right_inputBatch += [r_img_nparray]\n",
    "        train_left_groundTruthBatch += [ground_truth[:,:,np.newaxis]]\n",
    "\n",
    "        if len(train_left_groundTruthBatch) == batch_size:\n",
    "            batch_input_x = [np.array(train_left_inputBatch), np.array(train_right_inputBatch)]\n",
    "            batch_input_y = [np.array(train_left_groundTruthBatch)]\n",
    "            train_left_inputBatch = []\n",
    "            train_right_inputBatch = []\n",
    "            train_left_groundTruthBatch = []\n",
    "\n",
    "            yield (batch_input_x, batch_input_y)\n",
    "\n",
    "directories = [i for i in dataset.data_paths if ('left' in i) and ('.png' in i)]\n",
    "shuffle(directories)\n",
    "\n",
    "train_paths = directories[0:int(len(directories)*0.8)]\n",
    "train_generator = trainDataGenerator(data_paths = train_paths, batch_size = 1)\n",
    "\n",
    "validation_paths = directories[int(len(directories)*0.8):]\n",
    "validation_generator = trainDataGenerator(data_paths = validation_paths, batch_size = 1)\n",
    "\n",
    "net.fit_generator(train_generator,\n",
    "                  epochs = 100,\n",
    "                  steps_per_epoch = int(len(train_paths)/1),\n",
    "                  validation_data = validation_generator,\n",
    "                  validation_steps = int(len(validation_paths)/1),\n",
    "                  callbacks=[TensorBoard, csv_logger, WeightsSaver(10)])"
   ]
  },
  {
   "cell_type": "markdown",
   "metadata": {},
   "source": [
    "training time check\n",
    "- day\n",
    "- hours\n",
    "- minute\n",
    "- sec"
   ]
  },
  {
   "cell_type": "code",
   "execution_count": null,
   "metadata": {},
   "outputs": [],
   "source": [
    "runtime_sec = time.clock() - start\n",
    "m, s = divmod(runtime_sec, 60)\n",
    "h, m = divmod(m, 60)\n",
    "d, h = divmod(h, 24)\n",
    "print('runtime : %d days %d:%02d:%02d' % (d, h, m, s))"
   ]
  },
  {
   "cell_type": "markdown",
   "metadata": {},
   "source": [
    "save trained model weight"
   ]
  },
  {
   "cell_type": "code",
   "execution_count": null,
   "metadata": {},
   "outputs": [],
   "source": [
    "net.save_weights('./checkpoints/flownetCorr_for_depth.hdf5')"
   ]
  },
  {
   "cell_type": "markdown",
   "metadata": {},
   "source": [
    "# FlowNet prediction\n"
   ]
  },
  {
   "cell_type": "code",
   "execution_count": null,
   "metadata": {},
   "outputs": [],
   "source": [
    "import os\n",
    "\n",
    "os.environ[\"CUDA_DEVICE_ORDER\"]=\"PCI_BUS_ID\"   \n",
    "os.environ[\"CUDA_VISIBLE_DEVICES\"]=\"0\""
   ]
  },
  {
   "cell_type": "code",
   "execution_count": null,
   "metadata": {},
   "outputs": [],
   "source": [
    "import tensorflow as tf\n",
    "import numpy as np"
   ]
  },
  {
   "cell_type": "code",
   "execution_count": null,
   "metadata": {},
   "outputs": [],
   "source": [
    "from model import FlowNet\n",
    "from dataset import Scene_Flow_disparity"
   ]
  },
  {
   "cell_type": "code",
   "execution_count": null,
   "metadata": {},
   "outputs": [],
   "source": [
    "dataset = Scene_Flow_disparity()"
   ]
  },
  {
   "cell_type": "code",
   "execution_count": null,
   "metadata": {},
   "outputs": [],
   "source": [
    "prediction_model = FlowNet(\n",
    "    img_height = 540, \n",
    "    img_width = 960, \n",
    "    img_depth = 3, \n",
    "    learning_rate = 0.1**4)\n",
    "\n",
    "prediction_net = prediction_model.inference('simple')\n",
    "\n",
    "prediction_net.load_weights('./checkpoints/flownetSimple_for_depth.hdf5')"
   ]
  },
  {
   "cell_type": "code",
   "execution_count": null,
   "metadata": {},
   "outputs": [],
   "source": [
    "import matplotlib.pyplot as plt\n",
    "\n",
    "left, right, groundtruth = dataset.data('./test_image/img/left/0001.png', \n",
    "                              (prediction_model.model_in_height, prediction_model.model_in_width), \n",
    "                              (prediction_model.model_out_height, prediction_model.model_out_width))\n",
    "\n",
    "train_left_x = left[np.newaxis,:]\n",
    "train_right_x = right[np.newaxis,:]\n",
    "\n",
    "prediction = prediction_net.predict([train_left_x, train_right_x],\n",
    "                                    batch_size=1);\n",
    "\n",
    "plt.imshow(prediction[0,:,:,0])\n",
    "plt.show()\n",
    "plt.imshow(groundtruth[:,:,0])\n",
    "plt.show()\n",
    "# save .pfm file\n",
    "# dataset.write_pfm(prediction[0,:,:,0], dir_output+'/%s.pfm' % (image_path.split('/')[-1]))"
   ]
  },
  {
   "cell_type": "code",
   "execution_count": null,
   "metadata": {},
   "outputs": [],
   "source": []
  }
 ],
 "metadata": {
  "kernelspec": {
   "display_name": "Python 3",
   "language": "python",
   "name": "python3"
  },
  "language_info": {
   "codemirror_mode": {
    "name": "ipython",
    "version": 3
   },
   "file_extension": ".py",
   "mimetype": "text/x-python",
   "name": "python",
   "nbconvert_exporter": "python",
   "pygments_lexer": "ipython3",
   "version": "3.6.4"
  }
 },
 "nbformat": 4,
 "nbformat_minor": 2
}
