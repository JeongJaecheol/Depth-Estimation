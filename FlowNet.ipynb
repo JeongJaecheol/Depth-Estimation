{
 "cells": [
  {
   "cell_type": "markdown",
   "metadata": {},
   "source": [
    "# Server GPU setting\n",
    "\n",
    "Ubuntu Workstation"
   ]
  },
  {
   "cell_type": "code",
   "execution_count": null,
   "metadata": {},
   "outputs": [],
   "source": [
    "import os\n",
    "os.environ[\"CUDA_VISIBLE_DEVICES\"]=\"0\""
   ]
  },
  {
   "cell_type": "markdown",
   "metadata": {},
   "source": [
    "# FlowNet batch 생성\n",
    "\n",
    "import (tensorflow, numpy) package <br>\n",
    "numpy use to make numpy array batch data for training <br>\n",
    "tensorflow use to make FlowNet structure"
   ]
  },
  {
   "cell_type": "code",
   "execution_count": null,
   "metadata": {},
   "outputs": [],
   "source": [
    "import tensorflow as tf\n",
    "import numpy as np"
   ]
  },
  {
   "cell_type": "markdown",
   "metadata": {},
   "source": [
    "dataset : Scene Flow Datasets <br>\n",
    "model : FlowNet structure <br>"
   ]
  },
  {
   "cell_type": "code",
   "execution_count": null,
   "metadata": {},
   "outputs": [],
   "source": [
    "from model import FlowNet\n",
    "from dataset import Scene_Flow_disparity"
   ]
  },
  {
   "cell_type": "markdown",
   "metadata": {},
   "source": [
    "Download Scene Flow Datasets <br>\n",
    "Make data_paths list for loading data images"
   ]
  },
  {
   "cell_type": "code",
   "execution_count": null,
   "metadata": {},
   "outputs": [],
   "source": [
    "dataset = Scene_Flow_disparity()"
   ]
  },
  {
   "cell_type": "markdown",
   "metadata": {},
   "source": [
    "Check data method in mode = left, groundTruth mode = disparity"
   ]
  },
  {
   "cell_type": "code",
   "execution_count": null,
   "metadata": {},
   "outputs": [],
   "source": [
    "print(len(dataset.data_paths))\n",
    "print()\n",
    "iteration = 0\n",
    "for dir_ in dataset.data_paths:\n",
    "    iteration += 1\n",
    "    if iteration == 200:\n",
    "        break\n",
    "    if dataset.data(dir_) is not None:\n",
    "        print(dir_)\n",
    "    else:\n",
    "        print('no left or png path')"
   ]
  },
  {
   "cell_type": "markdown",
   "metadata": {},
   "source": [
    "# FlowNet Simple training<br>\n",
    "\n",
    "make FlowNet simple structure <br>\n",
    "set training environment(input shape, learning rate, FlowNet structure mode)"
   ]
  },
  {
   "cell_type": "code",
   "execution_count": null,
   "metadata": {},
   "outputs": [],
   "source": [
    "import time\n",
    "import datetime\n",
    "\n",
    "model = FlowNet(\n",
    "    img_height = 540, \n",
    "    img_width = 960, \n",
    "    img_depth = 3, \n",
    "    learning_rate = 0.1**4)\n",
    "\n",
    "net = model.inference('simple')\n",
    "\n",
    "start=time.clock()"
   ]
  },
  {
   "cell_type": "markdown",
   "metadata": {},
   "source": [
    "## training\n",
    "\n",
    "make training batch input\n",
    "- train_left_x_batch numpy array\n",
    "- train_right_x_batch numpy array\n",
    "<br>\n",
    "\n",
    "make training batch output\n",
    "- train_y_batch numpy array\n",
    "training\n",
    "- data split in iteration\n",
    "- no data augmentation"
   ]
  },
  {
   "cell_type": "code",
   "execution_count": null,
   "metadata": {},
   "outputs": [],
   "source": [
    "train_left_x = np.array([])\n",
    "train_left_x_batch = np.array([])\n",
    "train_right_x = np.array([])\n",
    "train_right_x_batch = np.array([])\n",
    "train_y = np.array([])\n",
    "train_y_batch = np.array([])\n",
    "\n",
    "iteration = 0\n",
    "for dir_ in dataset.data_paths:\n",
    "    if dataset.data(dir_) is not None:\n",
    "        left_image, right_image, ground_truth = dataset.data(dir_, \n",
    "                                                             (model.model_in_height, model.model_in_width), \n",
    "                                                             (model.model_out_height, model.model_out_width))\n",
    "        \n",
    "        if train_left_x.size == 0:\n",
    "            train_left_x = left_image[np.newaxis,:]\n",
    "            train_right_x = right_image[np.newaxis,:]\n",
    "            train_y = ground_truth[np.newaxis,:]\n",
    "        else:\n",
    "            train_left_x_batch = np.append(train_left_x, left_image[np.newaxis,:], axis = 0)\n",
    "            train_right_x_batch = np.append(train_right_x, right_image[np.newaxis,:], axis = 0)\n",
    "            train_y_batch = np.append(train_y, ground_truth[np.newaxis,:], axis = 0)\n",
    "        \n",
    "        iteration += 1\n",
    "        \n",
    "    elif iteration >= 100:\n",
    "        hist = net.fit([train_left_x_batch, train_right_x_batch], \n",
    "                           train_y_batch, \n",
    "                           batch_size=8, \n",
    "                           epochs=100, \n",
    "                           validation_split=0.2)\n",
    "        net.save_weights('./checkpoints/flownetSimple_for_depth.hdf5')\n",
    "        train_left_x = np.array([])\n",
    "        train_left_x_batch = np.array([])\n",
    "        train_right_x = np.array([])\n",
    "        train_right_x_batch = np.array([])\n",
    "        train_y = np.array([])\n",
    "        train_y_batch = np.array([])\n",
    "        iteration = 0"
   ]
  },
  {
   "cell_type": "markdown",
   "metadata": {},
   "source": [
    "training time check\n",
    "- day\n",
    "- hours\n",
    "- minute\n",
    "- sec"
   ]
  },
  {
   "cell_type": "code",
   "execution_count": null,
   "metadata": {},
   "outputs": [],
   "source": [
    "runtime_sec = time.clock() - start\n",
    "m, s = divmod(runtime_sec, 60)\n",
    "h, m = divmod(m, 60)\n",
    "d, h = divmod(h, 24)\n",
    "print('runtime : %d days %d:%02d:%02d' % (d, h, m, s))"
   ]
  },
  {
   "cell_type": "markdown",
   "metadata": {},
   "source": [
    "save trained model weight"
   ]
  },
  {
   "cell_type": "code",
   "execution_count": null,
   "metadata": {},
   "outputs": [],
   "source": [
    "net.save_weights('./checkpoints/flownetSimple_for_depth.hdf5')"
   ]
  },
  {
   "cell_type": "markdown",
   "metadata": {},
   "source": [
    "# FlowNet Correlation training<br>\n",
    "\n",
    "make FlowNet simple structure <br>\n",
    "set training environment(input shape, learning rate, FlowNet structure mode)"
   ]
  },
  {
   "cell_type": "code",
   "execution_count": null,
   "metadata": {},
   "outputs": [],
   "source": [
    "import time\n",
    "import datetime\n",
    "\n",
    "model = FlowNet(\n",
    "    img_height = 540, \n",
    "    img_width = 960, \n",
    "    img_depth = 3, \n",
    "    learning_rate = 0.1**4)\n",
    "\n",
    "net = model.inference('correlation')\n",
    "\n",
    "start=time.clock()"
   ]
  },
  {
   "cell_type": "markdown",
   "metadata": {},
   "source": [
    "## training\n",
    "\n",
    "make training batch input\n",
    "- train_left_x_batch numpy array\n",
    "- train_right_x_batch numpy array\n",
    "<br>\n",
    "\n",
    "make training batch output\n",
    "- train_y_batch numpy array\n",
    "training\n",
    "- data split in iteration\n",
    "- no data augmentation"
   ]
  },
  {
   "cell_type": "code",
   "execution_count": null,
   "metadata": {},
   "outputs": [],
   "source": [
    "train_left_x = np.array([])\n",
    "train_left_x_batch = np.array([])\n",
    "train_right_x = np.array([])\n",
    "train_right_x_batch = np.array([])\n",
    "train_y = np.array([])\n",
    "train_y_batch = np.array([])\n",
    "\n",
    "iteration = 0\n",
    "for dir_ in dataset.data_paths:\n",
    "    if dataset.data(dir_) is not None:\n",
    "        left_image, right_image, ground_truth = dataset.data(dir_, \n",
    "                                                             (model.model_in_height, model.model_in_width), \n",
    "                                                             (model.model_out_height, model.model_out_width))\n",
    "        \n",
    "        if train_left_x.size == 0:\n",
    "            train_left_x = left_image[np.newaxis,:]\n",
    "            train_right_x = right_image[np.newaxis,:]\n",
    "            train_y = ground_truth[np.newaxis,:]\n",
    "        else:\n",
    "            train_left_x_batch = np.append(train_left_x, left_image[np.newaxis,:], axis = 0)\n",
    "            train_right_x_batch = np.append(train_right_x, right_image[np.newaxis,:], axis = 0)\n",
    "            train_y_batch = np.append(train_y, ground_truth[np.newaxis,:], axis = 0)\n",
    "        \n",
    "        iteration += 1\n",
    "        \n",
    "    elif iteration >= 100:\n",
    "        hist = net.fit([train_left_x_batch, train_right_x_batch], \n",
    "                           train_y_batch, \n",
    "                           batch_size=8, \n",
    "                           epochs=100, \n",
    "                           validation_split=0.2)\n",
    "        net.save_weights('./checkpoints/flownetSimple_for_depth.hdf5')\n",
    "        train_left_x = np.array([])\n",
    "        train_left_x_batch = np.array([])\n",
    "        train_right_x = np.array([])\n",
    "        train_right_x_batch = np.array([])\n",
    "        train_y = np.array([])\n",
    "        train_y_batch = np.array([])\n",
    "        iteration = 0"
   ]
  },
  {
   "cell_type": "markdown",
   "metadata": {},
   "source": [
    "training time check\n",
    "- day\n",
    "- hours\n",
    "- minute\n",
    "- sec"
   ]
  },
  {
   "cell_type": "code",
   "execution_count": null,
   "metadata": {},
   "outputs": [],
   "source": [
    "runtime_sec = time.clock() - start\n",
    "m, s = divmod(runtime_sec, 60)\n",
    "h, m = divmod(m, 60)\n",
    "d, h = divmod(h, 24)\n",
    "print('runtime : %d days %d:%02d:%02d' % (d, h, m, s))"
   ]
  },
  {
   "cell_type": "markdown",
   "metadata": {},
   "source": [
    "save trained model weight"
   ]
  },
  {
   "cell_type": "code",
   "execution_count": null,
   "metadata": {},
   "outputs": [],
   "source": [
    "net.save_weights('./checkpoints/flownetSimple_for_depth.hdf5')"
   ]
  }
 ],
 "metadata": {
  "kernelspec": {
   "display_name": "Python 3",
   "language": "python",
   "name": "python3"
  },
  "language_info": {
   "codemirror_mode": {
    "name": "ipython",
    "version": 3
   },
   "file_extension": ".py",
   "mimetype": "text/x-python",
   "name": "python",
   "nbconvert_exporter": "python",
   "pygments_lexer": "ipython3",
   "version": "3.6.4"
  }
 },
 "nbformat": 4,
 "nbformat_minor": 2
}
