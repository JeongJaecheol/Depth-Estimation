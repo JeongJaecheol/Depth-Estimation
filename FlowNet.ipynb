{
 "cells": [
  {
   "cell_type": "markdown",
   "metadata": {},
   "source": [
    "# FlowNet batch 생성\n",
    "\n",
    "import (tensorflow, numpy) package <br>\n",
    "numpy use to make numpy array batch data for training <br>\n",
    "tensorflow use to make FlowNet structure"
   ]
  },
  {
   "cell_type": "code",
   "execution_count": null,
   "metadata": {},
   "outputs": [],
   "source": [
    "import tensorflow as tf\n",
    "import numpy as np"
   ]
  },
  {
   "cell_type": "markdown",
   "metadata": {},
   "source": [
    "dataset : Scene Flow Datasets <br>\n",
    "model : FlowNet structure <br>"
   ]
  },
  {
   "cell_type": "code",
   "execution_count": null,
   "metadata": {},
   "outputs": [],
   "source": [
    "from model import FlowNet\n",
    "from dataset import Scene_Flow_disparity"
   ]
  },
  {
   "cell_type": "markdown",
   "metadata": {},
   "source": [
    "Download Scene Flow Datasets <br>\n",
    "Make data_paths list for loading data images"
   ]
  },
  {
   "cell_type": "code",
   "execution_count": null,
   "metadata": {},
   "outputs": [],
   "source": [
    "dataset = Scene_Flow_disparity()"
   ]
  },
  {
   "cell_type": "markdown",
   "metadata": {},
   "source": [
    "Check data method in mode = left, groundTruth mode = disparity"
   ]
  },
  {
   "cell_type": "code",
   "execution_count": null,
   "metadata": {},
   "outputs": [],
   "source": [
    "print(len(dataset.data_paths))\n",
    "print()\n",
    "iteration = 0\n",
    "for dir_ in dataset.data_paths:\n",
    "    iteration += 1\n",
    "    if iteration == 200:\n",
    "        break\n",
    "    if dataset.data(dir_) is not None:\n",
    "        print(dir_)\n",
    "    else:\n",
    "        print('no left or png path')"
   ]
  },
  {
   "cell_type": "markdown",
   "metadata": {},
   "source": [
    "# FlowNet Simple training<br>\n",
    "\n",
    "gpu device setting"
   ]
  },
  {
   "cell_type": "code",
   "execution_count": null,
   "metadata": {},
   "outputs": [],
   "source": [
    "import os\n",
    "\n",
    "os.environ[\"CUDA_DEVICE_ORDER\"]=\"PCI_BUS_ID\"   \n",
    "os.environ[\"CUDA_VISIBLE_DEVICES\"]=\"0\""
   ]
  },
  {
   "cell_type": "markdown",
   "metadata": {},
   "source": [
    "make FlowNet simple structure <br>\n",
    "set training environment(input shape, learning rate, FlowNet structure mode, gpu device set)"
   ]
  },
  {
   "cell_type": "code",
   "execution_count": null,
   "metadata": {
    "scrolled": true
   },
   "outputs": [],
   "source": [
    "import time\n",
    "import datetime\n",
    "\n",
    "start=time.clock()\n",
    "\n",
    "model = FlowNet(\n",
    "    img_height = 540,\n",
    "    img_width = 960, \n",
    "    img_depth = 3, \n",
    "    learning_rate = 0.1**4)\n",
    "\n",
    "net = model.inference('simple')"
   ]
  },
  {
   "cell_type": "markdown",
   "metadata": {},
   "source": [
    "make FlowNet check point debug"
   ]
  },
  {
   "cell_type": "code",
   "execution_count": null,
   "metadata": {
    "scrolled": true
   },
   "outputs": [],
   "source": [
    "import matplotlib.pyplot as plt\n",
    "import random\n",
    "\n",
    "model_check = FlowNet(\n",
    "    img_height = 540,\n",
    "    img_width = 960, \n",
    "    img_depth = 3, \n",
    "    learning_rate = 0.1**4)\n",
    "\n",
    "net_check = model.inference('simple')"
   ]
  },
  {
   "cell_type": "markdown",
   "metadata": {},
   "source": [
    "## training\n",
    "\n",
    "make training batch input\n",
    "- train_left_x_batch numpy array\n",
    "- train_right_x_batch numpy array\n",
    "<br>\n",
    "\n",
    "make training batch output\n",
    "- train_y_batch numpy array\n",
    "training\n",
    "- data split in iteration\n",
    "- no data augmentation"
   ]
  },
  {
   "cell_type": "code",
   "execution_count": null,
   "metadata": {
    "scrolled": true
   },
   "outputs": [],
   "source": [
    "train_left_x = []\n",
    "train_right_x = []\n",
    "train_y = []\n",
    "\n",
    "fit_iteration = 0\n",
    "iteration = 0\n",
    "for dir_ in dataset.data_paths:\n",
    "    if dataset.data(dir_) is not None:\n",
    "        iteration += 1\n",
    "        left_image, right_image, ground_truth = dataset.data(dir_,\n",
    "                                                             (model.model_in_height, model.model_in_width),\n",
    "                                                             (model.model_out_height, model.model_out_width))\n",
    "        train_left_x.append(left_image)\n",
    "        train_right_x.append(right_image)\n",
    "        train_y.append(ground_truth)\n",
    "\n",
    "    if iteration >= 100:\n",
    "        fit_iteration += 1\n",
    "        print('%dth fit iteration' % fit_iteration)\n",
    "        hist = net.fit([np.array(train_left_x), np.array(train_right_x)], \n",
    "                       np.array(train_y), \n",
    "                       batch_size=8, \n",
    "                       epochs=100, \n",
    "                       validation_split=0.2)\n",
    "        if not os.path.exists('./checkpoints/'):\n",
    "            os.makedirs('./checkpoints/')\n",
    "        net.save_weights('./checkpoints/flownetSimple_for_depth(%dth).hdf5' % fit_iteration)\n",
    "        \n",
    "        net_check.load_weights('./checkpoints/flownetSimple_for_depth(%dth).hdf5' % fit_iteration)\n",
    "        for i in range(0, 5):\n",
    "            n = random.randrange(1,101)\n",
    "            prediction = net_check.predict([np.array(train_left_x)[n:n+1,:], np.array(train_right_x)[n:n+1,:]], batch_size=1)\n",
    "            fig, (ax0, ax1) = plt.subplots(ncols=2, figsize=(20, 10))\n",
    "            ax0.imshow(np.array(train_y)[n,:,:,0])\n",
    "            ax1.imshow(prediction[0,:,:,0])\n",
    "            plt.show()\n",
    "        \n",
    "        train_left_x = []\n",
    "        train_right_x = []\n",
    "        train_y = []\n",
    "        iteration = 0"
   ]
  },
  {
   "cell_type": "markdown",
   "metadata": {},
   "source": [
    "training time check\n",
    "- day\n",
    "- hours\n",
    "- minute\n",
    "- sec"
   ]
  },
  {
   "cell_type": "code",
   "execution_count": null,
   "metadata": {},
   "outputs": [],
   "source": [
    "runtime_sec = time.clock() - start\n",
    "m, s = divmod(runtime_sec, 60)\n",
    "h, m = divmod(m, 60)\n",
    "d, h = divmod(h, 24)\n",
    "print('runtime : %d days %d:%02d:%02d' % (d, h, m, s))"
   ]
  },
  {
   "cell_type": "markdown",
   "metadata": {},
   "source": [
    "save trained model weight"
   ]
  },
  {
   "cell_type": "code",
   "execution_count": null,
   "metadata": {},
   "outputs": [],
   "source": [
    "net.save_weights('./checkpoints/flownetSimple_for_depth.hdf5')"
   ]
  },
  {
   "cell_type": "markdown",
   "metadata": {},
   "source": [
    "# FlowNet Correlation training<br>\n",
    "\n",
    "gpu device setting"
   ]
  },
  {
   "cell_type": "code",
   "execution_count": null,
   "metadata": {},
   "outputs": [],
   "source": [
    "import os\n",
    "\n",
    "os.environ[\"CUDA_DEVICE_ORDER\"]=\"PCI_BUS_ID\"   \n",
    "os.environ[\"CUDA_VISIBLE_DEVICES\"]=\"0\""
   ]
  },
  {
   "cell_type": "markdown",
   "metadata": {},
   "source": [
    "make FlowNet simple structure <br>\n",
    "set training environment(input shape, learning rate, FlowNet structure mode)"
   ]
  },
  {
   "cell_type": "code",
   "execution_count": null,
   "metadata": {},
   "outputs": [],
   "source": [
    "import time\n",
    "import datetime\n",
    "\n",
    "model = FlowNet(\n",
    "    img_height = 540, \n",
    "    img_width = 960, \n",
    "    img_depth = 3, \n",
    "    learning_rate = 0.1**4)\n",
    "\n",
    "net = model.inference('correlation')\n",
    "\n",
    "start=time.clock()"
   ]
  },
  {
   "cell_type": "markdown",
   "metadata": {},
   "source": [
    "make FlowNet check point debug"
   ]
  },
  {
   "cell_type": "code",
   "execution_count": null,
   "metadata": {},
   "outputs": [],
   "source": [
    "import matplotlib.pyplot as plt\n",
    "import random\n",
    "\n",
    "model_check = FlowNet(\n",
    "    img_height = 540,\n",
    "    img_width = 960, \n",
    "    img_depth = 3, \n",
    "    learning_rate = 0.1**4)\n",
    "\n",
    "net_check = model.inference('correlation')"
   ]
  },
  {
   "cell_type": "markdown",
   "metadata": {},
   "source": [
    "## training\n",
    "\n",
    "make training batch input\n",
    "- train_left_x_batch numpy array\n",
    "- train_right_x_batch numpy array\n",
    "<br>\n",
    "\n",
    "make training batch output\n",
    "- train_y_batch numpy array\n",
    "training\n",
    "- data split in iteration\n",
    "- no data augmentation"
   ]
  },
  {
   "cell_type": "code",
   "execution_count": null,
   "metadata": {},
   "outputs": [],
   "source": [
    "train_left_x = []\n",
    "train_right_x = []\n",
    "train_y = []\n",
    "\n",
    "fit_iteration = 0\n",
    "iteration = 0\n",
    "for dir_ in dataset.data_paths:\n",
    "    if dataset.data(dir_) is not None:\n",
    "        iteration += 1\n",
    "        left_image, right_image, ground_truth = dataset.data(dir_,\n",
    "                                                             (model.model_in_height, model.model_in_width),\n",
    "                                                             (model.model_out_height, model.model_out_width))\n",
    "        train_left_x.append(left_image)\n",
    "        train_right_x.append(right_image)\n",
    "        train_y.append(ground_truth)\n",
    "\n",
    "    if iteration >= 100:\n",
    "        fit_iteration += 1\n",
    "        print('%dth fit iteration' % fit_iteration)\n",
    "        hist = net.fit([np.array(train_left_x), np.array(train_right_x)], \n",
    "                       np.array(train_y), \n",
    "                       batch_size=8, \n",
    "                       epochs=1, \n",
    "                       validation_split=0.2)\n",
    "        if not os.path.exists('./checkpoints/'):\n",
    "            os.makedirs('./checkpoints/')\n",
    "        net.save_weights('./checkpoints/flownetCorr_for_depth(%dth).hdf5' % fit_iteration)\n",
    "        \n",
    "        net_check.load_weights('./checkpoints/flownetCorr_for_depth(%dth).hdf5' % fit_iteration)\n",
    "        for i in range(0, 5):\n",
    "            n = random.randrange(1,101)\n",
    "            prediction = net_check.predict([np.array(train_left_x)[n:n+1,:], np.array(train_right_x)[n:n+1,:]], batch_size=1)\n",
    "            fig, (ax0, ax1) = plt.subplots(ncols=2, figsize=(20, 10))\n",
    "            ax0.imshow(np.array(train_y)[n,:,:,0])\n",
    "            ax1.imshow(prediction[0,:,:,0])\n",
    "            plt.show()\n",
    "        \n",
    "        train_left_x = []\n",
    "        train_right_x = []\n",
    "        train_y = []\n",
    "        iteration = 0"
   ]
  },
  {
   "cell_type": "markdown",
   "metadata": {},
   "source": [
    "training time check\n",
    "- day\n",
    "- hours\n",
    "- minute\n",
    "- sec"
   ]
  },
  {
   "cell_type": "code",
   "execution_count": null,
   "metadata": {},
   "outputs": [],
   "source": [
    "runtime_sec = time.clock() - start\n",
    "m, s = divmod(runtime_sec, 60)\n",
    "h, m = divmod(m, 60)\n",
    "d, h = divmod(h, 24)\n",
    "print('runtime : %d days %d:%02d:%02d' % (d, h, m, s))"
   ]
  },
  {
   "cell_type": "markdown",
   "metadata": {},
   "source": [
    "save trained model weight"
   ]
  },
  {
   "cell_type": "code",
   "execution_count": null,
   "metadata": {},
   "outputs": [],
   "source": [
    "net.save_weights('./checkpoints/flownetCorr_for_depth.hdf5')"
   ]
  },
  {
   "cell_type": "markdown",
   "metadata": {},
   "source": [
    "# FlowNet prediction\n"
   ]
  },
  {
   "cell_type": "code",
   "execution_count": null,
   "metadata": {},
   "outputs": [],
   "source": [
    "import os\n",
    "\n",
    "os.environ[\"CUDA_DEVICE_ORDER\"]=\"PCI_BUS_ID\"   \n",
    "os.environ[\"CUDA_VISIBLE_DEVICES\"]=\"0\""
   ]
  },
  {
   "cell_type": "code",
   "execution_count": null,
   "metadata": {},
   "outputs": [],
   "source": [
    "import tensorflow as tf\n",
    "import numpy as np"
   ]
  },
  {
   "cell_type": "code",
   "execution_count": null,
   "metadata": {},
   "outputs": [],
   "source": [
    "from model import FlowNet\n",
    "from dataset import Scene_Flow_disparity"
   ]
  },
  {
   "cell_type": "code",
   "execution_count": null,
   "metadata": {},
   "outputs": [],
   "source": [
    "dataset = Scene_Flow_disparity()"
   ]
  },
  {
   "cell_type": "code",
   "execution_count": null,
   "metadata": {},
   "outputs": [],
   "source": [
    "prediction_model = FlowNet(\n",
    "    img_height = 540, \n",
    "    img_width = 960, \n",
    "    img_depth = 3, \n",
    "    learning_rate = 0.1**4)\n",
    "\n",
    "prediction_net = prediction_model.inference('simple')\n",
    "\n",
    "prediction_net.load_weights('./checkpoints/flownetSimple_for_depth.hdf5')"
   ]
  },
  {
   "cell_type": "code",
   "execution_count": null,
   "metadata": {},
   "outputs": [],
   "source": [
    "import matplotlib.pyplot as plt\n",
    "\n",
    "left, right, groundtruth = dataset.data('./test_image/img/left/0001.png', \n",
    "                              (prediction_model.model_in_height, prediction_model.model_in_width), \n",
    "                              (prediction_model.model_out_height, prediction_model.model_out_width))\n",
    "\n",
    "train_left_x = left[np.newaxis,:]\n",
    "train_right_x = right[np.newaxis,:]\n",
    "\n",
    "prediction = prediction_net.predict([train_left_x, train_right_x],\n",
    "                                    batch_size=1);\n",
    "\n",
    "plt.imshow(prediction[0,:,:,0])\n",
    "plt.show()\n",
    "plt.imshow(groundtruth[:,:,0])\n",
    "plt.show()\n",
    "# save .pfm file\n",
    "# dataset.write_pfm(prediction[0,:,:,0], dir_output+'/%s.pfm' % (image_path.split('/')[-1]))"
   ]
  },
  {
   "cell_type": "code",
   "execution_count": null,
   "metadata": {},
   "outputs": [],
   "source": []
  }
 ],
 "metadata": {
  "kernelspec": {
   "display_name": "Python 3",
   "language": "python",
   "name": "python3"
  },
  "language_info": {
   "codemirror_mode": {
    "name": "ipython",
    "version": 3
   },
   "file_extension": ".py",
   "mimetype": "text/x-python",
   "name": "python",
   "nbconvert_exporter": "python",
   "pygments_lexer": "ipython3",
   "version": "3.6.4"
  }
 },
 "nbformat": 4,
 "nbformat_minor": 2
}
