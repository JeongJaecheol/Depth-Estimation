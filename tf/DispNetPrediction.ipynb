{
 "cells": [
  {
   "cell_type": "code",
   "execution_count": 1,
   "metadata": {
    "scrolled": true
   },
   "outputs": [
    {
     "name": "stderr",
     "output_type": "stream",
     "text": [
      "C:\\ProgramData\\Anaconda3\\lib\\site-packages\\h5py\\__init__.py:36: FutureWarning: Conversion of the second argument of issubdtype from `float` to `np.floating` is deprecated. In future, it will be treated as `np.float64 == np.dtype(float).type`.\n",
      "  from ._conv import register_converters as _register_converters\n"
     ]
    }
   ],
   "source": [
    "import tensorflow as tf\n",
    "import numpy as np\n",
    "\n",
    "from model import DispNet\n",
    "from dataset import Scene_Flow_disparity\n",
    "\n",
    "import os\n",
    "import cv2\n",
    "import time\n",
    "import datetime\n",
    "from random import shuffle\n",
    "from random import randrange\n",
    "from tqdm import tqdm_notebook"
   ]
  },
  {
   "cell_type": "code",
   "execution_count": 2,
   "metadata": {},
   "outputs": [],
   "source": [
    "QUEUE_LENGTH = 20\n",
    "NUM_OF_THREAD = 12\n",
    "\n",
    "epoch = 30\n",
    "rate_of_paths = 1.0\n",
    "train_batch_size = 2\n",
    "learning_rate = 0.1**4"
   ]
  },
  {
   "cell_type": "code",
   "execution_count": 3,
   "metadata": {
    "scrolled": true
   },
   "outputs": [],
   "source": [
    "def DataGenerator(data_paths, batch_size = 1):\n",
    "    train_left_inputBatch = []\n",
    "    train_right_inputBatch = []\n",
    "    train_left_groundTruthBatch = []\n",
    "    for dir_ in data_paths:\n",
    "        l_img_nparray = cv2.imread(dir_, cv2.IMREAD_COLOR)  \n",
    "        r_img_nparray = cv2.imread(dir_.replace(\"./l\", \"./r\"), cv2.IMREAD_COLOR) \n",
    "        train_left_inputBatch += [l_img_nparray]\n",
    "        train_right_inputBatch += [r_img_nparray]\n",
    "        if len(train_left_inputBatch) == batch_size:\n",
    "            batch_input_x_l = np.array(train_left_inputBatch).astype(np.float32)\n",
    "            batch_input_x_r = np.array(train_right_inputBatch).astype(np.float32)\n",
    "            train_left_inputBatch = []\n",
    "            train_right_inputBatch = []\n",
    "            yield (batch_input_x_l, batch_input_x_r)"
   ]
  },
  {
   "cell_type": "code",
   "execution_count": 4,
   "metadata": {},
   "outputs": [
    {
     "name": "stdout",
     "output_type": "stream",
     "text": [
      "input image resized by (height = 512, width = 960)\n",
      "INFO:tensorflow:Error reported to Coordinator: <class 'tensorflow.python.framework.errors_impl.InvalidArgumentError'>, You must feed a value for placeholder tensor 'right_image' with dtype float and shape [1,512,960,3]\n",
      "\t [[Node: right_image = Placeholder[dtype=DT_FLOAT, shape=[1,512,960,3], _device=\"/job:localhost/replica:0/task:0/device:CPU:0\"]()]]\n",
      "INFO:tensorflow:Restoring parameters from ./checkpoints/tf-DispNet/trained_in_SceneFlowDataset/batch_size_2-9epoch\n",
      "\n"
     ]
    },
    {
     "data": {
      "application/vnd.jupyter.widget-view+json": {
       "model_id": "06e186da63944fc289beb4e4679fccb3",
       "version_major": 2,
       "version_minor": 0
      },
      "text/html": [
       "<p>Failed to display Jupyter Widget of type <code>HBox</code>.</p>\n",
       "<p>\n",
       "  If you're reading this message in the Jupyter Notebook or JupyterLab Notebook, it may mean\n",
       "  that the widgets JavaScript is still loading. If this message persists, it\n",
       "  likely means that the widgets JavaScript library is either not installed or\n",
       "  not enabled. See the <a href=\"https://ipywidgets.readthedocs.io/en/stable/user_install.html\">Jupyter\n",
       "  Widgets Documentation</a> for setup instructions.\n",
       "</p>\n",
       "<p>\n",
       "  If you're reading this message in another frontend (for example, a static\n",
       "  rendering on GitHub or <a href=\"https://nbviewer.jupyter.org/\">NBViewer</a>),\n",
       "  it may mean that your frontend doesn't currently support widgets.\n",
       "</p>\n"
      ],
      "text/plain": [
       "HBox(children=(IntProgress(value=0, max=5), HTML(value='')))"
      ]
     },
     "metadata": {},
     "output_type": "display_data"
    },
    {
     "name": "stdout",
     "output_type": "stream",
     "text": [
      "\n"
     ]
    }
   ],
   "source": [
    "prediction_paths = ['./test_set/CG_Testset1_20180711/Image_00.png', \n",
    "                    './test_set/ETRI_chef_0_100/Image_00.png',\n",
    "                    './test_set/middleburry/Image_00.png',\n",
    "                    './test_set/Sceneflow/Image_00.png',\n",
    "                    './test_set/TechnicolorPainter_pr_100_#00_#15/Image_00.png']\n",
    "prediction_generator = DataGenerator(data_paths = prediction_paths, batch_size = 1)\n",
    "\n",
    "model = DispNet(img_height = 512,\n",
    "                img_width = 960,\n",
    "                img_depth = 3,\n",
    "                learning_rate = learning_rate, \n",
    "                batch_size = 1,\n",
    "                mode = 'correlation_')\n",
    "\n",
    "queue = tf.FIFOQueue(QUEUE_LENGTH, dtypes=[tf.float32, tf.float32], shapes=[[1, 512, 960, 3], \n",
    "                                                                            [1, 512, 960, 3]])\n",
    "with tf.device('/cpu:0'):\n",
    "    enqueue = queue.enqueue((model.left_image, model.right_image))\n",
    "    qr = tf.train.QueueRunner(queue, [enqueue]*NUM_OF_THREAD)\n",
    "    sess = tf.Session()\n",
    "    coord = tf.train.Coordinator()\n",
    "    threads = qr.create_threads(sess, coord=coord, start=True)\n",
    "    X_L_batch, X_R_batch = queue.dequeue()\n",
    "with sess.as_default():\n",
    "    train_op, loss, prediction, tensorboard = model.inference(X_L_batch, X_R_batch, model.ground_truth)\n",
    "    \n",
    "    init_op = tf.global_variables_initializer()\n",
    "    sess.run(init_op)\n",
    "    \n",
    "    saver = tf.train.Saver()\n",
    "    tf.reset_default_graph()\n",
    "    ckpt_path = saver.restore(sess, \"./checkpoints/tf-DispNet/trained_in_SceneFlowDataset/batch_size_2-{0}epoch\".format(9))\n",
    "    \n",
    "    print()\n",
    "    for step in tqdm_notebook(range(0, (int)(len(prediction_paths) / 1))):\n",
    "        net_input = list(next(prediction_generator))\n",
    "        pre = sess.run([prediction], feed_dict={X_L_batch: net_input[0], \n",
    "                                                X_R_batch: net_input[1]})\n",
    "        if step % 1 == 0:\n",
    "            cv2.imwrite('%d.png' % (step+1), pre[0][0,:].astype(np.uint8))"
   ]
  },
  {
   "cell_type": "code",
   "execution_count": null,
   "metadata": {},
   "outputs": [],
   "source": []
  }
 ],
 "metadata": {
  "kernelspec": {
   "display_name": "Python 3",
   "language": "python",
   "name": "python3"
  },
  "language_info": {
   "codemirror_mode": {
    "name": "ipython",
    "version": 3
   },
   "file_extension": ".py",
   "mimetype": "text/x-python",
   "name": "python",
   "nbconvert_exporter": "python",
   "pygments_lexer": "ipython3",
   "version": "3.6.4"
  }
 },
 "nbformat": 4,
 "nbformat_minor": 2
}
