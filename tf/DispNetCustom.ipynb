{
 "cells": [
  {
   "cell_type": "code",
   "execution_count": 1,
   "metadata": {
    "scrolled": true
   },
   "outputs": [
    {
     "name": "stderr",
     "output_type": "stream",
     "text": [
      "/home/jjc/anaconda3/lib/python3.6/site-packages/h5py/__init__.py:36: FutureWarning: Conversion of the second argument of issubdtype from `float` to `np.floating` is deprecated. In future, it will be treated as `np.float64 == np.dtype(float).type`.\n",
      "  from ._conv import register_converters as _register_converters\n"
     ]
    }
   ],
   "source": [
    "import tensorflow as tf\n",
    "import numpy as np\n",
    "\n",
    "from model import DispNet\n",
    "from dataset import Scene_Flow_disparity\n",
    "\n",
    "import os\n",
    "import cv2\n",
    "import time\n",
    "import datetime\n",
    "from random import shuffle\n",
    "from random import randrange\n",
    "from tqdm import tqdm_notebook"
   ]
  },
  {
   "cell_type": "code",
   "execution_count": 2,
   "metadata": {
    "scrolled": true
   },
   "outputs": [
    {
     "name": "stdout",
     "output_type": "stream",
     "text": [
      ">> already download flyingthings3d__frames_cleanpass.tar of Scene Flow Datasets\n",
      ">> already extracted flyingthings3d__frames_cleanpass of Scene Flow Datasets\n",
      ">> already download driving__frames_cleanpass.tar of Scene Flow Datasets\n",
      ">> already extracted driving__frames_cleanpass of Scene Flow Datasets\n",
      ">> already download monkaa__frames_cleanpass.tar of Scene Flow Datasets\n",
      ">> already extracted monkaa__frames_cleanpass of Scene Flow Datasets\n",
      ">> already download flyingthings3d__frames_finalpass.tar of Scene Flow Datasets\n",
      ">> already extracted flyingthings3d__frames_finalpass of Scene Flow Datasets\n",
      ">> already download driving__frames_finalpass.tar of Scene Flow Datasets\n",
      ">> already extracted driving__frames_finalpass of Scene Flow Datasets\n",
      ">> already download monkaa__frames_finalpass.tar of Scene Flow Datasets\n",
      ">> already extracted monkaa__frames_finalpass of Scene Flow Datasets\n",
      ">> already download flyingthings3d__disparity.tar.bz2 of Scene Flow Datasets\n",
      ">> already extracted flyingthings3d__disparity of Scene Flow Datasets\n",
      ">> already download driving__disparity.tar.bz2 of Scene Flow Datasets\n",
      ">> already extracted driving__disparity of Scene Flow Datasets\n",
      ">> already download monkaa__disparity.tar.bz2 of Scene Flow Datasets\n",
      ">> already extracted monkaa__disparity of Scene Flow Datasets\n",
      "complete loading Scene Flow Datasets\n"
     ]
    }
   ],
   "source": [
    "dataset = Scene_Flow_disparity()"
   ]
  },
  {
   "cell_type": "code",
   "execution_count": 3,
   "metadata": {},
   "outputs": [],
   "source": [
    "directories = [i for i in dataset.data_paths if ('left' in i) and ('.png' in i)]\n",
    "\n",
    "QUEUE_LENGTH = 20\n",
    "NUM_OF_THREAD = 12\n",
    "\n",
    "epoch = 30\n",
    "rate_of_paths = 0.8\n",
    "train_batch_size = 2\n",
    "learning_rate = 0.1**4\n",
    "train_paths = directories[0:int(len(directories)*rate_of_paths)]\n",
    "validation_paths = directories[int(len(directories)*rate_of_paths):]"
   ]
  },
  {
   "cell_type": "code",
   "execution_count": 4,
   "metadata": {
    "scrolled": true
   },
   "outputs": [],
   "source": [
    "def DataGenerator(data_paths, batch_size = 1):\n",
    "    if shuffle == True:\n",
    "        shuffle(data_paths)\n",
    "    train_left_inputBatch = []\n",
    "    train_right_inputBatch = []\n",
    "    train_left_groundTruthBatch = []\n",
    "    for dir_ in data_paths:\n",
    "        l_img_nparray = cv2.imread(dir_.replace(\"Scene Flow Datasets\", \"resized_SFD\"), cv2.IMREAD_COLOR)\n",
    "        r_img_nparray = cv2.imread(dir_.replace(\"left\", \"right\").replace(\"Scene Flow Datasets\", \"resized_SFD\"), cv2.IMREAD_COLOR)     \n",
    "        \n",
    "        if 'driving__frames_cleanpass' in dir_:\n",
    "            tmp = dir_.replace(\"driving__frames_cleanpass\", \"driving__disparity\")\n",
    "            dir_ = tmp.replace(\"frames_cleanpass\", \"disparity\")\n",
    "        elif 'driving__frames_finalpass' in dir_:\n",
    "            tmp = dir_.replace(\"driving__frames_finalpass\", \"driving__disparity\")\n",
    "            dir_ = tmp.replace(\"frames_finalpass\", \"disparity\")\n",
    "        elif 'flyingthings3d__frames_cleanpass' in dir_:\n",
    "            tmp = dir_.replace(\"flyingthings3d__frames_cleanpass\", \"flyingthings3d__disparity\")\n",
    "            dir_ = tmp.replace(\"frames_cleanpass\", \"disparity\")\n",
    "        elif 'flyingthings3d__frames_finalpass' in dir_:\n",
    "            tmp = dir_.replace(\"flyingthings3d__frames_finalpass\", \"flyingthings3d__disparity\")\n",
    "            dir_ = tmp.replace(\"frames_finalpass\", \"disparity\")\n",
    "        elif 'monkaa__frames_cleanpass' in dir_:\n",
    "            tmp = dir_.replace(\"monkaa__frames_cleanpass\", \"monkaa__disparity\")\n",
    "            dir_ = tmp.replace(\"frames_cleanpass\", \"disparity\")\n",
    "        elif 'monkaa__frames_finalpass' in dir_:\n",
    "            tmp = dir_.replace(\"monkaa__frames_finalpass\", \"monkaa__disparity\")\n",
    "            dir_ = tmp.replace(\"frames_finalpass\", \"disparity\")\n",
    "        \n",
    "        ground_truth = np.load(dir_.replace(\".png\", \".npy\").replace(\"Scene Flow Datasets\", \"resized_SFD\"))\n",
    "        start_x = randrange(0, 224)\n",
    "        start_y = randrange(0, 128)\n",
    "        train_left_inputBatch += [l_img_nparray[2 * start_y:2 * start_y + 256,2 * start_x:2 * start_x + 448,:]]\n",
    "        train_right_inputBatch += [r_img_nparray[2 * start_y:2 * start_y + 256,2 * start_x:2 * start_x + 448,:]]\n",
    "        train_left_groundTruthBatch += [ground_truth[start_y:start_y + 128,start_x:start_x + 224,np.newaxis]]\n",
    "        \n",
    "        if len(train_left_groundTruthBatch) == batch_size:\n",
    "            batch_input_x_l = np.array(train_left_inputBatch).astype(np.float32)\n",
    "            batch_input_x_r = np.array(train_right_inputBatch).astype(np.float32)\n",
    "            batch_input_y = np.array(train_left_groundTruthBatch)\n",
    "            train_left_inputBatch = []\n",
    "            train_right_inputBatch = []\n",
    "            train_left_groundTruthBatch = []\n",
    "\n",
    "            yield (batch_input_x_l, batch_input_x_r, batch_input_y)"
   ]
  },
  {
   "cell_type": "code",
   "execution_count": null,
   "metadata": {
    "scrolled": true
   },
   "outputs": [
    {
     "name": "stdout",
     "output_type": "stream",
     "text": [
      "training step : 31859\n",
      "input image resized by (height = 256, width = 448)\n",
      "INFO:tensorflow:Error reported to Coordinator: <class 'tensorflow.python.framework.errors_impl.InvalidArgumentError'>, You must feed a value for placeholder tensor 'left_image' with dtype float and shape [2,256,448,3]\n",
      "\t [[Node: left_image = Placeholder[dtype=DT_FLOAT, shape=[2,256,448,3], _device=\"/job:localhost/replica:0/task:0/device:CPU:0\"]()]]\n",
      "\n"
     ]
    },
    {
     "data": {
      "application/vnd.jupyter.widget-view+json": {
       "model_id": "7ee9ed077f0e424cb77574bf54ceba0b",
       "version_major": 2,
       "version_minor": 0
      },
      "text/plain": [
       "HBox(children=(IntProgress(value=0, max=31859), HTML(value='')))"
      ]
     },
     "metadata": {},
     "output_type": "display_data"
    },
    {
     "name": "stdout",
     "output_type": "stream",
     "text": [
      "loss_value = 5389.659    validation_loss = 1253.603    batch_step_time = 0.2700020000000052654\r"
     ]
    }
   ],
   "source": [
    "train_generator = DataGenerator(data_paths = train_paths, batch_size = train_batch_size)\n",
    "validation_generator = DataGenerator(data_paths = validation_paths, batch_size = train_batch_size)\n",
    "print('training step : ' + str(int(len(train_paths) / train_batch_size)))\n",
    "\n",
    "model = DispNet(img_height = 256,\n",
    "                img_width = 448,\n",
    "                img_depth = 3,\n",
    "                learning_rate = learning_rate, \n",
    "                batch_size = train_batch_size,\n",
    "                mode = 'correlation_')\n",
    "\n",
    "queue = tf.FIFOQueue(QUEUE_LENGTH, dtypes=[tf.float32, tf.float32, tf.float32], shapes=[[train_batch_size, 256, 448, 3], \n",
    "                                                                                        [train_batch_size, 256, 448, 3], \n",
    "                                                                                        [train_batch_size, 128, 224, 1]])\n",
    "with tf.device('/cpu:0'):\n",
    "    enqueue = queue.enqueue((model.left_image, model.right_image, model.ground_truth))\n",
    "    qr = tf.train.QueueRunner(queue, [enqueue]*NUM_OF_THREAD)\n",
    "    sess = tf.Session()\n",
    "    coord = tf.train.Coordinator()\n",
    "    threads = qr.create_threads(sess, coord=coord, start=True)\n",
    "    X_L_batch, X_R_batch, y_batch = queue.dequeue()\n",
    "with sess.as_default():\n",
    "    train_op, loss, prediction, cost_tb1, cost_tb2 = model.inference(X_L_batch, X_R_batch, y_batch)\n",
    "    \n",
    "    init_op = tf.global_variables_initializer()\n",
    "    sess.run(init_op)\n",
    "    saver = tf.train.Saver()\n",
    "    tensorboard_writer = tf.summary.FileWriter(\n",
    "        './TensorBoard/tf-DispNet/trained_in_SceneFlowDataset/batch_size:{0}-{1}epoch'.format(train_batch_size, epoch), \n",
    "        sess.graph)\n",
    "    print()\n",
    "    training_loss = 0.0\n",
    "    validation_loss = 0.0\n",
    "    for i in range(0, epoch):\n",
    "        for step in tqdm_notebook(range(0, (int)(len(train_paths) / train_batch_size))):\n",
    "            train_start = time.clock()\n",
    "            net_input = list(next(train_generator))\n",
    "            _, training_loss, training_tb = sess.run([train_op, loss, cost_tb1], feed_dict={X_L_batch: net_input[0],\n",
    "                                                                                            X_R_batch: net_input[1],\n",
    "                                                                                            y_batch : net_input[2]})\n",
    "            train_end = time.clock()\n",
    "            net_input = list(next(validation_generator))\n",
    "            validation_loss, validation_tb = sess.run([loss, cost_tb2], feed_dict={X_L_batch: net_input[0],\n",
    "                                                                                   X_R_batch: net_input[1],\n",
    "                                                                                   y_batch : net_input[2]})\n",
    "            if step % 1 == 0:\n",
    "                print('loss_value = %.3f' % training_loss + \n",
    "                      '    validation_loss = %.3f' % validation_loss + \n",
    "                      '    batch_step_time = ' + str(train_end-train_start), \n",
    "                      end = '\\r')\n",
    "                tensorboard_writer.add_summary(training_tb, step * i + step)\n",
    "                tensorboard_writer.add_summary(validation_tb, step * i + step)\n",
    "        if i == 0: \n",
    "            saver.save(sess,'./checkpoints/tf-DispNet/trained_in_SceneFlowDataset/batch_size:{0}-{1}epoch'.format(train_batch_size, i+1),\n",
    "                       write_meta_graph=True)\n",
    "        else:\n",
    "            saver.save(sess,'./checkpoints/tf-DispNet/trained_in_SceneFlowDataset/batch_size:{0}-{1}epoch'.format(train_batch_size, i+1),\n",
    "                       write_meta_graph=False)"
   ]
  },
  {
   "cell_type": "code",
   "execution_count": null,
   "metadata": {},
   "outputs": [],
   "source": []
  }
 ],
 "metadata": {
  "kernelspec": {
   "display_name": "Python 3",
   "language": "python",
   "name": "python3"
  },
  "language_info": {
   "codemirror_mode": {
    "name": "ipython",
    "version": 3
   },
   "file_extension": ".py",
   "mimetype": "text/x-python",
   "name": "python",
   "nbconvert_exporter": "python",
   "pygments_lexer": "ipython3",
   "version": "3.6.5"
  }
 },
 "nbformat": 4,
 "nbformat_minor": 2
}
