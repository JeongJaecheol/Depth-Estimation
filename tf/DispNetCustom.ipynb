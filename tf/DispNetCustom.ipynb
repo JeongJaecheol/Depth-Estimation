{
 "cells": [
  {
   "cell_type": "code",
   "execution_count": 1,
   "metadata": {
    "scrolled": true
   },
   "outputs": [
    {
     "name": "stderr",
     "output_type": "stream",
     "text": [
      "/home/jjc/anaconda3/lib/python3.6/site-packages/h5py/__init__.py:36: FutureWarning: Conversion of the second argument of issubdtype from `float` to `np.floating` is deprecated. In future, it will be treated as `np.float64 == np.dtype(float).type`.\n",
      "  from ._conv import register_converters as _register_converters\n"
     ]
    }
   ],
   "source": [
    "import tensorflow as tf\n",
    "import numpy as np\n",
    "\n",
    "from model import DispNet\n",
    "from dataset import Scene_Flow_disparity\n",
    "\n",
    "import os\n",
    "import cv2\n",
    "import time\n",
    "import datetime\n",
    "from random import shuffle\n",
    "from random import randrange\n",
    "from tqdm import tqdm_notebook"
   ]
  },
  {
   "cell_type": "code",
   "execution_count": 2,
   "metadata": {},
   "outputs": [
    {
     "name": "stdout",
     "output_type": "stream",
     "text": [
      ">> already download flyingthings3d__frames_cleanpass.tar of Scene Flow Datasets\n",
      ">> already extracted flyingthings3d__frames_cleanpass of Scene Flow Datasets\n",
      ">> already download driving__frames_cleanpass.tar of Scene Flow Datasets\n",
      ">> already extracted driving__frames_cleanpass of Scene Flow Datasets\n",
      ">> already download monkaa__frames_cleanpass.tar of Scene Flow Datasets\n",
      ">> already extracted monkaa__frames_cleanpass of Scene Flow Datasets\n",
      ">> already download flyingthings3d__frames_finalpass.tar of Scene Flow Datasets\n",
      ">> already extracted flyingthings3d__frames_finalpass of Scene Flow Datasets\n",
      ">> already download driving__frames_finalpass.tar of Scene Flow Datasets\n",
      ">> already extracted driving__frames_finalpass of Scene Flow Datasets\n",
      ">> already download monkaa__frames_finalpass.tar of Scene Flow Datasets\n",
      ">> already extracted monkaa__frames_finalpass of Scene Flow Datasets\n",
      ">> already download flyingthings3d__disparity.tar.bz2 of Scene Flow Datasets\n",
      ">> already extracted flyingthings3d__disparity of Scene Flow Datasets\n",
      ">> already download driving__disparity.tar.bz2 of Scene Flow Datasets\n",
      ">> already extracted driving__disparity of Scene Flow Datasets\n",
      ">> already download monkaa__disparity.tar.bz2 of Scene Flow Datasets\n",
      ">> already extracted monkaa__disparity of Scene Flow Datasets\n",
      "complete loading Scene Flow Datasets\n",
      "./data/Scene Flow Datasets//flyingthings3d__disparity/disparity/TRAIN/B/0704/right/0007.pfm\n"
     ]
    }
   ],
   "source": [
    "dataset = Scene_Flow_disparity()"
   ]
  },
  {
   "cell_type": "code",
   "execution_count": 3,
   "metadata": {},
   "outputs": [],
   "source": [
    "directories = [i for i in dataset.data_paths if ('left' in i) and ('.png' in i)]\n",
    "\n",
    "QUEUE_LENGTH = 20\n",
    "NUM_OF_THREAD = 12\n",
    "\n",
    "epoch = 30\n",
    "rate_of_paths = 1.0\n",
    "train_batch_size = 2\n",
    "learning_rate = 0.1**4\n",
    "train_paths = directories[0:int(len(directories)*rate_of_paths)]"
   ]
  },
  {
   "cell_type": "code",
   "execution_count": 4,
   "metadata": {
    "scrolled": true
   },
   "outputs": [],
   "source": [
    "def DataGenerator(data_paths, batch_size = 1):\n",
    "    if shuffle == True:\n",
    "        shuffle(data_paths)\n",
    "    train_left_inputBatch = []\n",
    "    train_right_inputBatch = []\n",
    "    train_left_groundTruthBatch = []\n",
    "    for dir_ in data_paths:\n",
    "        l_img_nparray = cv2.imread(dir_.replace(\"Scene Flow Datasets\", \"resized_SFD\"), cv2.IMREAD_COLOR)\n",
    "        r_img_nparray = cv2.imread(dir_.replace(\"left\", \"right\").replace(\"Scene Flow Datasets\", \"resized_SFD\"), cv2.IMREAD_COLOR)     \n",
    "        \n",
    "        if 'driving__frames_cleanpass' in dir_:\n",
    "            tmp = dir_.replace(\"driving__frames_cleanpass\", \"driving__disparity\")\n",
    "            dir_ = tmp.replace(\"frames_cleanpass\", \"disparity\")\n",
    "        elif 'driving__frames_finalpass' in dir_:\n",
    "            tmp = dir_.replace(\"driving__frames_finalpass\", \"driving__disparity\")\n",
    "            dir_ = tmp.replace(\"frames_finalpass\", \"disparity\")\n",
    "        elif 'flyingthings3d__frames_cleanpass' in dir_:\n",
    "            tmp = dir_.replace(\"flyingthings3d__frames_cleanpass\", \"flyingthings3d__disparity\")\n",
    "            dir_ = tmp.replace(\"frames_cleanpass\", \"disparity\")\n",
    "        elif 'flyingthings3d__frames_finalpass' in dir_:\n",
    "            tmp = dir_.replace(\"flyingthings3d__frames_finalpass\", \"flyingthings3d__disparity\")\n",
    "            dir_ = tmp.replace(\"frames_finalpass\", \"disparity\")\n",
    "        elif 'monkaa__frames_cleanpass' in dir_:\n",
    "            tmp = dir_.replace(\"monkaa__frames_cleanpass\", \"monkaa__disparity\")\n",
    "            dir_ = tmp.replace(\"frames_cleanpass\", \"disparity\")\n",
    "        elif 'monkaa__frames_finalpass' in dir_:\n",
    "            tmp = dir_.replace(\"monkaa__frames_finalpass\", \"monkaa__disparity\")\n",
    "            dir_ = tmp.replace(\"frames_finalpass\", \"disparity\")\n",
    "        \n",
    "        ground_truth = np.load(dir_.replace(\".png\", \".npy\").replace(\"Scene Flow Datasets\", \"resized_SFD\"))\n",
    "        start_x = randrange(0, 224)\n",
    "        start_y = randrange(0, 128)\n",
    "        train_left_inputBatch += [l_img_nparray[2 * start_y:2 * start_y + 256,2 * start_x:2 * start_x + 448,:]]\n",
    "        train_right_inputBatch += [r_img_nparray[2 * start_y:2 * start_y + 256,2 * start_x:2 * start_x + 448,:]]\n",
    "        train_left_groundTruthBatch += [ground_truth[start_y:start_y + 128,start_x:start_x + 224,np.newaxis]]\n",
    "        \n",
    "        if len(train_left_groundTruthBatch) == batch_size:\n",
    "            batch_input_x_l = np.array(train_left_inputBatch).astype(np.float32)\n",
    "            batch_input_x_r = np.array(train_right_inputBatch).astype(np.float32)\n",
    "            batch_input_y = np.array(train_left_groundTruthBatch)\n",
    "            train_left_inputBatch = []\n",
    "            train_right_inputBatch = []\n",
    "            train_left_groundTruthBatch = []\n",
    "\n",
    "            yield (batch_input_x_l, batch_input_x_r, batch_input_y)"
   ]
  },
  {
   "cell_type": "code",
   "execution_count": null,
   "metadata": {
    "scrolled": true
   },
   "outputs": [
    {
     "name": "stdout",
     "output_type": "stream",
     "text": [
      "training step : 39824\n",
      "input image resized by (height = 256, width = 448)\n",
      "\n"
     ]
    },
    {
     "data": {
      "application/vnd.jupyter.widget-view+json": {
       "model_id": "6872288802784de89d2da923429ffe31",
       "version_major": 2,
       "version_minor": 0
      },
      "text/plain": [
       "HBox(children=(IntProgress(value=0, max=39824), HTML(value='')))"
      ]
     },
     "metadata": {},
     "output_type": "display_data"
    },
    {
     "name": "stdout",
     "output_type": "stream",
     "text": [
      "loss_value = 0.174    batch_step_time = 0.18343300000015006448\n"
     ]
    },
    {
     "data": {
      "application/vnd.jupyter.widget-view+json": {
       "model_id": "85f4ff4748714597a5e66a6de82b30c5",
       "version_major": 2,
       "version_minor": 0
      },
      "text/plain": [
       "HBox(children=(IntProgress(value=0, max=39824), HTML(value='')))"
      ]
     },
     "metadata": {},
     "output_type": "display_data"
    },
    {
     "name": "stdout",
     "output_type": "stream",
     "text": [
      "loss_value = 0.151    batch_step_time = 0.1884899999986373675\n"
     ]
    },
    {
     "data": {
      "application/vnd.jupyter.widget-view+json": {
       "model_id": "807174ae2ecf4cb6b6a21b7791f53267",
       "version_major": 2,
       "version_minor": 0
      },
      "text/plain": [
       "HBox(children=(IntProgress(value=0, max=39824), HTML(value='')))"
      ]
     },
     "metadata": {},
     "output_type": "display_data"
    },
    {
     "name": "stdout",
     "output_type": "stream",
     "text": [
      "loss_value = 0.016    batch_step_time = 0.181731000000581846\n"
     ]
    },
    {
     "data": {
      "application/vnd.jupyter.widget-view+json": {
       "model_id": "bd76bf95fbfc455a9d9818e54316e9d9",
       "version_major": 2,
       "version_minor": 0
      },
      "text/plain": [
       "HBox(children=(IntProgress(value=0, max=39824), HTML(value='')))"
      ]
     },
     "metadata": {},
     "output_type": "display_data"
    },
    {
     "name": "stdout",
     "output_type": "stream",
     "text": [
      "loss_value = 0.012    batch_step_time = 0.18303600000217557\n"
     ]
    },
    {
     "data": {
      "application/vnd.jupyter.widget-view+json": {
       "model_id": "b2108c52e1cc4aa99e593db1291e7cec",
       "version_major": 2,
       "version_minor": 0
      },
      "text/plain": [
       "HBox(children=(IntProgress(value=0, max=39824), HTML(value='')))"
      ]
     },
     "metadata": {},
     "output_type": "display_data"
    },
    {
     "name": "stdout",
     "output_type": "stream",
     "text": [
      "loss_value = 0.010    batch_step_time = 0.186199000003398475\n"
     ]
    },
    {
     "data": {
      "application/vnd.jupyter.widget-view+json": {
       "model_id": "ed98efa3aa6b4d95a50887c48f67a62d",
       "version_major": 2,
       "version_minor": 0
      },
      "text/plain": [
       "HBox(children=(IntProgress(value=0, max=39824), HTML(value='')))"
      ]
     },
     "metadata": {},
     "output_type": "display_data"
    },
    {
     "name": "stdout",
     "output_type": "stream",
     "text": [
      "loss_value = 0.009    batch_step_time = 0.18971199999941746\n"
     ]
    },
    {
     "data": {
      "application/vnd.jupyter.widget-view+json": {
       "model_id": "f65e48756b464646b7d87b3818f8801f",
       "version_major": 2,
       "version_minor": 0
      },
      "text/plain": [
       "HBox(children=(IntProgress(value=0, max=39824), HTML(value='')))"
      ]
     },
     "metadata": {},
     "output_type": "display_data"
    },
    {
     "name": "stdout",
     "output_type": "stream",
     "text": [
      "loss_value = 0.063    batch_step_time = 0.182638000005681538\n"
     ]
    },
    {
     "data": {
      "application/vnd.jupyter.widget-view+json": {
       "model_id": "b6ebbc3c7b4344c7b5dba8e0d6d2a882",
       "version_major": 2,
       "version_minor": 0
      },
      "text/plain": [
       "HBox(children=(IntProgress(value=0, max=39824), HTML(value='')))"
      ]
     },
     "metadata": {},
     "output_type": "display_data"
    },
    {
     "name": "stdout",
     "output_type": "stream",
     "text": [
      "loss_value = 0.039    batch_step_time = 0.18314300000201913\n"
     ]
    },
    {
     "data": {
      "application/vnd.jupyter.widget-view+json": {
       "model_id": "8e7fa3e2e57e4d78a3d6c70fbd7ec29d",
       "version_major": 2,
       "version_minor": 0
      },
      "text/plain": [
       "HBox(children=(IntProgress(value=0, max=39824), HTML(value='')))"
      ]
     },
     "metadata": {},
     "output_type": "display_data"
    },
    {
     "name": "stdout",
     "output_type": "stream",
     "text": [
      "loss_value = 0.006    batch_step_time = 0.18362699999852346\r"
     ]
    }
   ],
   "source": [
    "train_generator = DataGenerator(data_paths = train_paths, batch_size = train_batch_size)\n",
    "print('training step : ' + str(int(len(train_paths) / train_batch_size)))\n",
    "\n",
    "queue = tf.FIFOQueue(QUEUE_LENGTH, dtypes=[tf.float32, tf.float32, tf.float32], shapes=[[train_batch_size, 256, 448, 3], \n",
    "                                                                                        [train_batch_size, 256, 448, 3], \n",
    "                                                                                        [train_batch_size, 128, 224, 1]])\n",
    "with tf.device('/cpu:0'):\n",
    "    enqueue = queue.enqueue(next(train_generator))\n",
    "    qr = tf.train.QueueRunner(queue, [enqueue]*NUM_OF_THREAD)\n",
    "    sess = tf.Session()\n",
    "    coord = tf.train.Coordinator()\n",
    "    threads = qr.create_threads(sess, coord=coord, start=True)\n",
    "    model = DispNet(img_height = 256,\n",
    "                    img_width = 448,\n",
    "                    img_depth = 3,\n",
    "                    learning_rate = learning_rate, \n",
    "                    batch_size = train_batch_size,\n",
    "                    mode = 'correlation_')\n",
    "    X_L_batch, X_R_batch, y_batch = queue.dequeue()\n",
    "with sess.as_default():\n",
    "    train_op, loss, prediction, tensorboard = model.inference(X_L_batch, X_R_batch, y_batch)\n",
    "    \n",
    "    init_op = tf.global_variables_initializer()\n",
    "    sess.run(init_op)\n",
    "    saver = tf.train.Saver()\n",
    "    saver.save(sess, './checkpoints/tf-DispNet/model_graph')\n",
    "    #'''\n",
    "    tensorboard_writer = tf.summary.FileWriter(\n",
    "        './TensorBoard/tf-DispNet/trained_in_SceneFlowDataset/batch_size:{0}-{1}epoch'.format(train_batch_size, epoch), \n",
    "        sess.graph)\n",
    "    #'''\n",
    "    print()\n",
    "    for i in range(0, epoch):\n",
    "        for step in tqdm_notebook(range(0, (int)(len(train_paths) / train_batch_size))):\n",
    "            train_start = time.clock()\n",
    "            _, summary, loss_val = sess.run([train_op, tensorboard, loss])\n",
    "            train_end = time.clock()\n",
    "            if step % 1 == 0:\n",
    "                tensorboard_writer.add_summary(summary, step)\n",
    "                print('loss_value = %.3f' % loss_val + '    batch_step_time = ' + str(train_end-train_start), end = '\\r')\n",
    "        saver.save(sess,'./checkpoints/tf-DispNet/trained_in_SceneFlowDataset/batch_size:{0}-{1}epoch'.format(train_batch_size, i+1))"
   ]
  },
  {
   "cell_type": "code",
   "execution_count": null,
   "metadata": {},
   "outputs": [],
   "source": []
  }
 ],
 "metadata": {
  "kernelspec": {
   "display_name": "Python 3",
   "language": "python",
   "name": "python3"
  },
  "language_info": {
   "codemirror_mode": {
    "name": "ipython",
    "version": 3
   },
   "file_extension": ".py",
   "mimetype": "text/x-python",
   "name": "python",
   "nbconvert_exporter": "python",
   "pygments_lexer": "ipython3",
   "version": "3.6.5"
  }
 },
 "nbformat": 4,
 "nbformat_minor": 2
}
