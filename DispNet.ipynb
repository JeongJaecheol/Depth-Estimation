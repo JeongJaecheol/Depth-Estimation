{
 "cells": [
  {
   "cell_type": "markdown",
   "metadata": {},
   "source": [
    "# DispNet batch 생성\n",
    "\n",
    "import (tensorflow, numpy) package <br>\n",
    "numpy use to make numpy array batch data for training <br>\n",
    "tensorflow use to make FlowNet structure"
   ]
  },
  {
   "cell_type": "code",
   "execution_count": null,
   "metadata": {},
   "outputs": [],
   "source": [
    "import tensorflow as tf\n",
    "import numpy as np"
   ]
  },
  {
   "cell_type": "markdown",
   "metadata": {},
   "source": [
    "dataset : Scene Flow Datasets <br>\n",
    "model : DispNet structure <br>"
   ]
  },
  {
   "cell_type": "code",
   "execution_count": null,
   "metadata": {},
   "outputs": [],
   "source": [
    "from model import DispNet\n",
    "from dataset import Scene_Flow_disparity"
   ]
  },
  {
   "cell_type": "markdown",
   "metadata": {},
   "source": [
    "Download Scene Flow Datasets <br>\n",
    "Make data_paths list for loading data images"
   ]
  },
  {
   "cell_type": "code",
   "execution_count": null,
   "metadata": {},
   "outputs": [],
   "source": [
    "dataset = Scene_Flow_disparity()"
   ]
  },
  {
   "cell_type": "markdown",
   "metadata": {},
   "source": [
    "Check data method in mode = left, groundTruth mode = disparity"
   ]
  },
  {
   "cell_type": "code",
   "execution_count": null,
   "metadata": {},
   "outputs": [],
   "source": [
    "print(len(dataset.data_paths))\n",
    "print()\n",
    "iteration = 0\n",
    "for dir_ in dataset.data_paths:\n",
    "    iteration += 1\n",
    "    if iteration == 200:\n",
    "        break\n",
    "    if dataset.data(dir_) is not None:\n",
    "        print(dir_)\n",
    "    else:\n",
    "        print('no left or png path')"
   ]
  },
  {
   "cell_type": "markdown",
   "metadata": {},
   "source": [
    "# DispNet Simple training<br>\n",
    "\n",
    "gpu device setting"
   ]
  },
  {
   "cell_type": "code",
   "execution_count": null,
   "metadata": {},
   "outputs": [],
   "source": [
    "import os\n",
    "\n",
    "os.environ[\"CUDA_DEVICE_ORDER\"]=\"PCI_BUS_ID\"   \n",
    "os.environ[\"CUDA_VISIBLE_DEVICES\"]=\"0\""
   ]
  },
  {
   "cell_type": "markdown",
   "metadata": {},
   "source": [
    "make DispNet simple structure <br>\n",
    "set training environment(input shape, learning rate, DispNet structure mode, gpu device set)"
   ]
  },
  {
   "cell_type": "code",
   "execution_count": null,
   "metadata": {
    "scrolled": true
   },
   "outputs": [],
   "source": [
    "import time\n",
    "import datetime\n",
    "\n",
    "start=time.clock()\n",
    "\n",
    "model = DispNet(\n",
    "    img_height = 540,\n",
    "    img_width = 960, \n",
    "    img_depth = 3, \n",
    "    learning_rate = 0.1**4)\n",
    "\n",
    "net = model.inference('simple')"
   ]
  },
  {
   "cell_type": "markdown",
   "metadata": {},
   "source": [
    "make DispNet check point debug"
   ]
  },
  {
   "cell_type": "code",
   "execution_count": null,
   "metadata": {},
   "outputs": [],
   "source": [
    "import matplotlib.pyplot as plt\n",
    "import random\n",
    "\n",
    "model_check = DispNet(\n",
    "    img_height = 540,\n",
    "    img_width = 960, \n",
    "    img_depth = 3, \n",
    "    learning_rate = 0.1**4)\n",
    "\n",
    "net_check = model.inference('simple')"
   ]
  },
  {
   "cell_type": "markdown",
   "metadata": {},
   "source": [
    "## training\n",
    "\n",
    "make training batch input\n",
    "- train_left_x_batch numpy array\n",
    "- train_right_x_batch numpy array\n",
    "<br>\n",
    "\n",
    "make training batch output\n",
    "- train_y_batch numpy array\n",
    "training\n",
    "- data split in iteration\n",
    "- no data augmentation"
   ]
  },
  {
   "cell_type": "code",
   "execution_count": null,
   "metadata": {},
   "outputs": [],
   "source": [
    "from tensorflow.python.keras.preprocessing.image import load_img\n",
    "from tensorflow.python.keras.preprocessing.image import img_to_array\n",
    "from tensorflow.python.keras.preprocessing.image import array_to_img\n",
    "from PIL import Image\n",
    "\n",
    "train_left_x = []\n",
    "train_right_x = []\n",
    "train_y1 = []\n",
    "train_y2 = []\n",
    "train_y3 = []\n",
    "train_y4 = []\n",
    "train_y5 = []\n",
    "train_y6 = []\n",
    "\n",
    "fit_iteration = 0\n",
    "iteration = 0\n",
    "for dir_ in dataset.data_paths:\n",
    "    if dataset.data(dir_) is not None:\n",
    "        left_image, right_image, pr1 = dataset.data(dir_,\n",
    "                                                    (model.model_in_height, model.model_in_width),\n",
    "                                                    (model.model_out_height, model.model_out_width))\n",
    "        pr = array_to_img(pr1)\n",
    "        tmp = pr.resize((240, 128))\n",
    "        pr2 = img_to_array(tmp)\n",
    "        tmp = pr.resize((120, 64))\n",
    "        pr3 = img_to_array(tmp)\n",
    "        tmp = pr.resize((60, 32))\n",
    "        pr4 = img_to_array(tmp)\n",
    "        tmp = pr.resize((30, 16))\n",
    "        pr5 = img_to_array(tmp)\n",
    "        tmp = pr.resize((15, 8))\n",
    "        pr6 = img_to_array(tmp)\n",
    "                \n",
    "        train_left_x.append(left_image)\n",
    "        train_right_x.append(right_image)\n",
    "        train_y1.append(pr1)\n",
    "        train_y2.append(pr2)\n",
    "        train_y3.append(pr3)\n",
    "        train_y4.append(pr4)\n",
    "        train_y5.append(pr5)\n",
    "        train_y6.append(pr6)\n",
    "\n",
    "        iteration += 1\n",
    "\n",
    "    elif iteration >= 100:\n",
    "        fit_iteration += 1\n",
    "        hist = net.fit([np.array(train_left_x), (train_right_x)], \n",
    "                       [np.array(train_y1), np.array(train_y2), np.array(train_y3), np.array(train_y4), np.array(train_y5), np.array(train_y6)], \n",
    "                       batch_size=8, \n",
    "                       epochs=100, \n",
    "                       validation_split=0.2)\n",
    "        if not os.path.exists('./checkpoints/'):\n",
    "            os.makedirs('./checkpoints/')\n",
    "        net.save_weights('./checkpoints/dispnetSimple(%dth).hdf5' % fit_iteration)\n",
    "        \n",
    "        net_check.load_weights('./checkpoints/dispnetSimple(%dth).hdf5' % fit_iteration)\n",
    "        for i in range(0, 5):\n",
    "            n = random.randrange(1,101)\n",
    "            prediction = net_check.predict([np.array(train_left_x)[n:n+1,:], np.array(train_right_x)[n:n+1,:]], batch_size=1)\n",
    "            fig, (ax0, ax1) = plt.subplots(ncols=2, figsize=(20, 10))\n",
    "            ax0.imshow(np.array(train_y1)[n,:,:,0])\n",
    "            ax1.imshow(prediction[0,:,:,0])\n",
    "            plt.show()        \n",
    "        \n",
    "        train_left_x = []\n",
    "        train_right_x = []\n",
    "        train_y1 = []\n",
    "        train_y2 = []\n",
    "        train_y3 = []\n",
    "        train_y4 = []\n",
    "        train_y5 = []\n",
    "        train_y6 = []\n",
    "        iteration = 0"
   ]
  },
  {
   "cell_type": "markdown",
   "metadata": {},
   "source": [
    "training time check\n",
    "- day\n",
    "- hours\n",
    "- minute\n",
    "- sec"
   ]
  },
  {
   "cell_type": "code",
   "execution_count": null,
   "metadata": {},
   "outputs": [],
   "source": [
    "runtime_sec = time.clock() - start\n",
    "m, s = divmod(runtime_sec, 60)\n",
    "h, m = divmod(m, 60)\n",
    "d, h = divmod(h, 24)\n",
    "print('runtime : %d days %d:%02d:%02d' % (d, h, m, s))"
   ]
  },
  {
   "cell_type": "markdown",
   "metadata": {},
   "source": [
    "save trained model weight"
   ]
  },
  {
   "cell_type": "code",
   "execution_count": null,
   "metadata": {},
   "outputs": [],
   "source": [
    "net.save_weights('./checkpoints/dispnetSimple_for_depth.hdf5')"
   ]
  },
  {
   "cell_type": "markdown",
   "metadata": {},
   "source": [
    "# DispNet Correlation training<br>\n",
    "\n",
    "gpu device setting"
   ]
  },
  {
   "cell_type": "code",
   "execution_count": null,
   "metadata": {},
   "outputs": [],
   "source": [
    "import os\n",
    "\n",
    "os.environ[\"CUDA_DEVICE_ORDER\"]=\"PCI_BUS_ID\"   \n",
    "os.environ[\"CUDA_VISIBLE_DEVICES\"]=\"0\""
   ]
  },
  {
   "cell_type": "markdown",
   "metadata": {},
   "source": [
    "make DispNet simple structure <br>\n",
    "set training environment(input shape, learning rate, DispNet structure mode)"
   ]
  },
  {
   "cell_type": "code",
   "execution_count": null,
   "metadata": {},
   "outputs": [],
   "source": [
    "import time\n",
    "import datetime\n",
    "\n",
    "model = DispNet(\n",
    "    img_height = 540, \n",
    "    img_width = 960, \n",
    "    img_depth = 3, \n",
    "    learning_rate = 0.1**4)\n",
    "\n",
    "net = model.inference('correlation')\n",
    "\n",
    "start=time.clock()"
   ]
  },
  {
   "cell_type": "markdown",
   "metadata": {},
   "source": [
    "make DispNet check point debug"
   ]
  },
  {
   "cell_type": "code",
   "execution_count": null,
   "metadata": {},
   "outputs": [],
   "source": [
    "import matplotlib.pyplot as plt\n",
    "import random\n",
    "\n",
    "model_check = DispNet(\n",
    "    img_height = 540,\n",
    "    img_width = 960, \n",
    "    img_depth = 3, \n",
    "    learning_rate = 0.1**4)\n",
    "\n",
    "net_check = model.inference('correlation')"
   ]
  },
  {
   "cell_type": "markdown",
   "metadata": {},
   "source": [
    "## training\n",
    "\n",
    "make training batch input\n",
    "- train_left_x_batch numpy array\n",
    "- train_right_x_batch numpy array\n",
    "<br>\n",
    "\n",
    "make training batch output\n",
    "- train_y_batch numpy array\n",
    "training\n",
    "- data split in iteration\n",
    "- no data augmentation"
   ]
  },
  {
   "cell_type": "code",
   "execution_count": null,
   "metadata": {},
   "outputs": [],
   "source": [
    "from tensorflow.python.keras.preprocessing.image import load_img\n",
    "from tensorflow.python.keras.preprocessing.image import img_to_array\n",
    "from tensorflow.python.keras.preprocessing.image import array_to_img\n",
    "from PIL import Image\n",
    "\n",
    "train_left_x = []\n",
    "train_right_x = []\n",
    "train_y1 = []\n",
    "train_y2 = []\n",
    "train_y3 = []\n",
    "train_y4 = []\n",
    "train_y5 = []\n",
    "train_y6 = []\n",
    "\n",
    "fit_iteration = 0\n",
    "iteration = 0\n",
    "for dir_ in dataset.data_paths:\n",
    "    if dataset.data(dir_) is not None:\n",
    "        left_image, right_image, pr1 = dataset.data(dir_,\n",
    "                                                    (model.model_in_height, model.model_in_width),\n",
    "                                                    (model.model_out_height, model.model_out_width))\n",
    "        pr = array_to_img(pr1)\n",
    "        tmp = pr.resize((240, 128))\n",
    "        pr2 = img_to_array(tmp)\n",
    "        tmp = pr.resize((120, 64))\n",
    "        pr3 = img_to_array(tmp)\n",
    "        tmp = pr.resize((60, 32))\n",
    "        pr4 = img_to_array(tmp)\n",
    "        tmp = pr.resize((30, 16))\n",
    "        pr5 = img_to_array(tmp)\n",
    "        tmp = pr.resize((15, 8))\n",
    "        pr6 = img_to_array(tmp)\n",
    "                \n",
    "        train_left_x.append(left_image)\n",
    "        train_right_x.append(right_image)\n",
    "        train_y1.append(pr1)\n",
    "        train_y2.append(pr2)\n",
    "        train_y3.append(pr3)\n",
    "        train_y4.append(pr4)\n",
    "        train_y5.append(pr5)\n",
    "        train_y6.append(pr6)\n",
    "\n",
    "        iteration += 1\n",
    "\n",
    "    elif iteration >= 100:\n",
    "        fit_iteration += 1\n",
    "        hist = net.fit([np.array(train_left_x), (train_right_x)], \n",
    "                       [np.array(train_y1), np.array(train_y2), np.array(train_y3), np.array(train_y4), np.array(train_y5), np.array(train_y6)], \n",
    "                       batch_size=8, \n",
    "                       epochs=100, \n",
    "                       validation_split=0.2)\n",
    "        if not os.path.exists('./checkpoints/'):\n",
    "            os.makedirs('./checkpoints/')\n",
    "        net.save_weights('./checkpoints/dispnetCorr(%dth).hdf5' % fit_iteration)\n",
    "        \n",
    "        net_check.load_weights('./checkpoints/dispnetCorr(%dth).hdf5' % fit_iteration)\n",
    "        for i in range(0, 5):\n",
    "            n = random.randrange(1,101)\n",
    "            prediction = net_check.predict([np.array(train_left_x)[n:n+1,:], np.array(train_right_x)[n:n+1,:]], batch_size=1)\n",
    "            fig, (ax0, ax1) = plt.subplots(ncols=2, figsize=(20, 10))\n",
    "            ax0.imshow(np.array(train_y1)[n,:,:,0])\n",
    "            ax1.imshow(prediction[0,:,:,0])\n",
    "            plt.show()        \n",
    "        \n",
    "        train_left_x = []\n",
    "        train_right_x = []\n",
    "        train_y1 = []\n",
    "        train_y2 = []\n",
    "        train_y3 = []\n",
    "        train_y4 = []\n",
    "        train_y5 = []\n",
    "        train_y6 = []\n",
    "        iteration = 0"
   ]
  },
  {
   "cell_type": "markdown",
   "metadata": {},
   "source": [
    "training time check\n",
    "- day\n",
    "- hours\n",
    "- minute\n",
    "- sec"
   ]
  },
  {
   "cell_type": "code",
   "execution_count": null,
   "metadata": {},
   "outputs": [],
   "source": [
    "runtime_sec = time.clock() - start\n",
    "m, s = divmod(runtime_sec, 60)\n",
    "h, m = divmod(m, 60)\n",
    "d, h = divmod(h, 24)\n",
    "print('runtime : %d days %d:%02d:%02d' % (d, h, m, s))"
   ]
  },
  {
   "cell_type": "markdown",
   "metadata": {},
   "source": [
    "save trained model weight"
   ]
  },
  {
   "cell_type": "code",
   "execution_count": null,
   "metadata": {},
   "outputs": [],
   "source": [
    "net.save_weights('./checkpoints/dispnetCorr_for_depth.hdf5')"
   ]
  }
 ],
 "metadata": {
  "kernelspec": {
   "display_name": "Python 3",
   "language": "python",
   "name": "python3"
  },
  "language_info": {
   "codemirror_mode": {
    "name": "ipython",
    "version": 3
   },
   "file_extension": ".py",
   "mimetype": "text/x-python",
   "name": "python",
   "nbconvert_exporter": "python",
   "pygments_lexer": "ipython3",
   "version": "3.6.4"
  }
 },
 "nbformat": 4,
 "nbformat_minor": 2
}
