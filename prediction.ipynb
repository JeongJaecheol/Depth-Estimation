{
 "cells": [
  {
   "cell_type": "code",
   "execution_count": null,
   "metadata": {
    "scrolled": true
   },
   "outputs": [],
   "source": [
    "import tensorflow as tf\n",
    "import numpy as np\n",
    "from model import FlowNet\n",
    "from dataset import Scene_Flow_disparity\n",
    "\n",
    "dataset = Scene_Flow_disparity()"
   ]
  },
  {
   "cell_type": "code",
   "execution_count": null,
   "metadata": {},
   "outputs": [],
   "source": [
    "import cv2\n",
    "import random\n",
    "from PIL import Image\n",
    "import matplotlib.pyplot as plt"
   ]
  },
  {
   "cell_type": "code",
   "execution_count": null,
   "metadata": {
    "scrolled": true
   },
   "outputs": [],
   "source": [
    "model_check = FlowNet(\n",
    "    img_height = 540,\n",
    "    img_width = 960, \n",
    "    img_depth = 3, \n",
    "    learning_rate = 0.1**4)\n",
    "\n",
    "net_check = model_check.inference('simple')\n",
    "\n",
    "itersave = 796\n",
    "net_check.load_weights('../weight/FlowNetSimple_Weight/senflow_dataset_weight/flownetSimple_for_depth({0}th).hdf5'.format(itersave))"
   ]
  },
  {
   "cell_type": "code",
   "execution_count": null,
   "metadata": {},
   "outputs": [],
   "source": [
    "for n in range(0, 2):\n",
    "    raw = n * 5\n",
    "    for i in range(0, 4):\n",
    "        left_number = raw + i\n",
    "        right_number = raw + i + 1\n",
    "        tmp = cv2.imread(\"./data/ETRI_test/CG_Testset1_20180711/Image/image_0{0}.png\".format(left_number), cv2.IMREAD_COLOR)\n",
    "        l_img = cv2.resize(tmp, (model_check.model_in_width, model_check.model_in_height), interpolation=cv2.INTER_CUBIC)\n",
    "        tmp = cv2.imread(\"./data/ETRI_test/CG_Testset1_20180711/Image/image_0{0}.png\".format(right_number), cv2.IMREAD_COLOR)\n",
    "        r_img = cv2.resize(tmp, (model_check.model_in_width, model_check.model_in_height), interpolation=cv2.INTER_CUBIC)\n",
    "        \n",
    "        prediction = net_check.predict([l_img[np.newaxis,:], r_img[np.newaxis,:]], batch_size=1)\n",
    "        if i == 0 and n == 0:\n",
    "            print('max : ', end='')\n",
    "            print(prediction[0,:].max(), end=' ')\n",
    "            print('min : ', end='')\n",
    "            print(prediction[0,:].min())\n",
    "        forward_result = prediction[0,:]\n",
    "        resized_result = cv2.resize(forward_result, (1920, 1080), interpolation=cv2.INTER_CUBIC)\n",
    "        result = resized_result #* (1920.0 / model_check.model_out_width)\n",
    "        if i == 0 and n == 0:\n",
    "            print('max : ', end='')\n",
    "            print(result.max(), end=' ')\n",
    "            print('min : ', end='')\n",
    "            print(result.min())\n",
    "        dataset.write_pfm(result, 'disp_0{0}.pfm'.format(left_number))\n",
    "        cv2.imwrite('result_image_0{0}.png'.format(left_number), result)"
   ]
  },
  {
   "cell_type": "code",
   "execution_count": null,
   "metadata": {
    "scrolled": true
   },
   "outputs": [],
   "source": [
    "left_number = 0\n",
    "right_number = 1\n",
    "tmp = cv2.imread(\"./data/ETRI_test/sceneflow/image_0{0}.png\".format(left_number), cv2.IMREAD_COLOR)\n",
    "l_img = cv2.resize(tmp, (model_check.model_in_width, model_check.model_in_height), interpolation=cv2.INTER_CUBIC)\n",
    "tmp = cv2.imread(\"./data/ETRI_test/sceneflow/image_0{0}.png\".format(right_number), cv2.IMREAD_COLOR)\n",
    "r_img = cv2.resize(tmp, (model_check.model_in_width, model_check.model_in_height), interpolation=cv2.INTER_CUBIC)\n",
    "        \n",
    "prediction = net_check.predict([l_img[np.newaxis,:], r_img[np.newaxis,:]], batch_size=1)\n",
    "print('max : ', end='')\n",
    "print(prediction[0,:].max(), end=' ')\n",
    "print('min : ', end='')\n",
    "print(prediction[0,:].min())\n",
    "forward_result = prediction[0,:]\n",
    "resized_result = cv2.resize(forward_result, (960, 540), interpolation=cv2.INTER_CUBIC)\n",
    "result = resized_result# * (960.0 / model_check.model_out_width)\n",
    "dataset.write_pfm(result, 'scene_disp_0{0}.pfm'.format(left_number))\n",
    "cv2.imwrite('scene_result_image_0{0}.png'.format(left_number), result)"
   ]
  },
  {
   "cell_type": "code",
   "execution_count": null,
   "metadata": {},
   "outputs": [],
   "source": [
    "l_img = load_img(path = \"./data/ETRI_test/aloe/big_view1.png\", grayscale = False, target_size = (model_check.model_in_height, model_check.model_in_width), interpolation = 'bicubic')\n",
    "r_img = load_img(path = \"./data/ETRI_test/aloe/big_view5.png\", grayscale = False, target_size = (model_check.model_in_height, model_check.model_in_width), interpolation = 'bicubic')\n",
    "\n",
    "left_image = img_to_array(l_img)\n",
    "right_image = img_to_array(r_img)\n",
    "\n",
    "prediction = net_check.predict([left_image[np.newaxis,:], right_image[np.newaxis,:]], batch_size=1)\n",
    "\n",
    "prediction_img = array_to_img(prediction[0,:])\n",
    "prediction_img.save('prediction_view1.png'.format(i+1))"
   ]
  },
  {
   "cell_type": "code",
   "execution_count": null,
   "metadata": {},
   "outputs": [],
   "source": [
    "l_img = load_img(path = \"./data/ETRI_test/tsukuba/big_tsukuba_left_color.bmp\", grayscale = False, target_size = (model_check.model_in_height, model_check.model_in_width), interpolation = 'bicubic')\n",
    "r_img = load_img(path = \"./data/ETRI_test/tsukuba/big_tsukuba_right_color.bmp\", grayscale = False, target_size = (model_check.model_in_height, model_check.model_in_width), interpolation = 'bicubic')\n",
    "\n",
    "left_image = img_to_array(l_img)\n",
    "right_image = img_to_array(r_img)\n",
    "\n",
    "prediction = net_check.predict([left_image[np.newaxis,:], right_image[np.newaxis,:]], batch_size=1)\n",
    "\n",
    "prediction_img = array_to_img(prediction[0,:])\n",
    "prediction_img.save('result_tsukuba_left_color.png'.format(i+1))"
   ]
  },
  {
   "cell_type": "code",
   "execution_count": null,
   "metadata": {},
   "outputs": [],
   "source": [
    "for i in range(0, 2):\n",
    "    CAM_NUM = i * 5 +1\n",
    "    for j in range(0, 2):\n",
    "        l_img = load_img(path = \"./data/ETRI_test/ETRI_chef_0_100/Cam0{0}_0{1}00.bmp\".format(CAM_NUM, j), grayscale = False, target_size = (model_check.model_in_height, model_check.model_in_width), interpolation = 'bicubic')\n",
    "        r_img = load_img(path = \"./data/ETRI_test/ETRI_chef_0_100/Cam0{0}_0{1}00.bmp\".format(CAM_NUM - 1, j), grayscale = False, target_size = (model_check.model_in_height, model_check.model_in_width), interpolation = 'bicubic')\n",
    "\n",
    "        left_image = img_to_array(l_img)\n",
    "        right_image = img_to_array(r_img)\n",
    "\n",
    "        prediction = net_check.predict([left_image[np.newaxis,:], right_image[np.newaxis,:]], batch_size=1)\n",
    "\n",
    "        prediction_img = array_to_img(prediction[0,:])\n",
    "        prediction_img.save('Cam0{0}_0{1}00.png'.format(CAM_NUM, j))"
   ]
  },
  {
   "cell_type": "code",
   "execution_count": null,
   "metadata": {},
   "outputs": [],
   "source": [
    "for n in range(0, 4):\n",
    "    raw = n * 4\n",
    "    for i in range(0, 3):\n",
    "        left_number = raw + i\n",
    "        right_number = raw + i + 1\n",
    "        l_img = load_img(path = \"./data/ETRI_test/TechnicolorPainter_pr_100_#00_#15/TechnicolorPainter_pr_100_#{:0=2}.png\".format(left_number), grayscale = False, target_size = (model_check.model_in_height, model_check.model_in_width), interpolation = 'bicubic')\n",
    "        r_img = load_img(path = \"./data/ETRI_test/TechnicolorPainter_pr_100_#00_#15/TechnicolorPainter_pr_100_#{:0=2}.png\".format(right_number), grayscale = False, target_size = (model_check.model_in_height, model_check.model_in_width), interpolation = 'bicubic')\n",
    "\n",
    "        left_image = img_to_array(l_img)\n",
    "        right_image = img_to_array(r_img)\n",
    "\n",
    "        prediction = net_check.predict([left_image[np.newaxis,:], right_image[np.newaxis,:]], batch_size=1)\n",
    "\n",
    "        prediction_img = array_to_img(prediction[0,:])\n",
    "        prediction_img.save('result_image_{:0=2}.png'.format(left_number))"
   ]
  },
  {
   "cell_type": "code",
   "execution_count": null,
   "metadata": {},
   "outputs": [],
   "source": [
    "for n in range(0, 4):\n",
    "    raw = n * 4\n",
    "    for i in range(0, 3):\n",
    "        left_number = raw + i\n",
    "        right_number = raw + i + 1\n",
    "        l_img_tmp = load_img(path = \"./data/ETRI_test/TechnicolorPainter_pr_100_#00_#15/TechnicolorPainter_pr_100_#{:0=2}.png\".format(left_number), grayscale = False, target_size = (model_check.model_in_height, model_check.model_in_width), interpolation = 'bicubic')\n",
    "        r_img_tmp = load_img(path = \"./data/ETRI_test/TechnicolorPainter_pr_100_#00_#15/TechnicolorPainter_pr_100_#{:0=2}.png\".format(right_number), grayscale = False, target_size = (model_check.model_in_height, model_check.model_in_width), interpolation = 'bicubic')\n",
    "\n",
    "        l_img = l_img_tmp.resize((model_check.model_in_width, model_check.model_in_height), Image.BILINEAR)\n",
    "        r_img = r_img_tmp.resize((model_check.model_in_width, model_check.model_in_height), Image.BILINEAR)\n",
    "        \n",
    "        left_image = img_to_array(l_img)\n",
    "        right_image = img_to_array(r_img)\n",
    "\n",
    "        prediction = net_check.predict([left_image[np.newaxis,:], right_image[np.newaxis,:]], batch_size=1)\n",
    "\n",
    "        prediction_img = array_to_img(prediction[0,:])\n",
    "        prediction_img.save('result_image_{:0=2}.png'.format(left_number))"
   ]
  },
  {
   "cell_type": "code",
   "execution_count": null,
   "metadata": {},
   "outputs": [],
   "source": [
    "import numpy as np\n",
    "\n",
    "from dataset import Scene_Flow_disparity\n",
    "dataset = Scene_Flow_disparity()\n",
    "a = dataset.read_pfm('./0001.pfm')\n",
    "print('max : ', end = '')\n",
    "print(a.max(), end = ' ')\n",
    "print('min : ', end = '')\n",
    "print(a.min())\n",
    "dataset.write_pfm(a, './write.pfm')\n",
    "a = dataset.read_pfm('./write.pfm')\n",
    "print('max : ', end = '')\n",
    "print(a.max(), end = ' ')\n",
    "print('min : ', end = '')\n",
    "print(a.min())"
   ]
  },
  {
   "cell_type": "code",
   "execution_count": null,
   "metadata": {},
   "outputs": [],
   "source": []
  }
 ],
 "metadata": {
  "kernelspec": {
   "display_name": "Python 3",
   "language": "python",
   "name": "python3"
  },
  "language_info": {
   "codemirror_mode": {
    "name": "ipython",
    "version": 3
   },
   "file_extension": ".py",
   "mimetype": "text/x-python",
   "name": "python",
   "nbconvert_exporter": "python",
   "pygments_lexer": "ipython3",
   "version": "3.6.4"
  }
 },
 "nbformat": 4,
 "nbformat_minor": 2
}
